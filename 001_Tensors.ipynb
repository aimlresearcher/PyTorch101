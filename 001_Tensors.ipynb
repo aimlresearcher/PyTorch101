{
  "nbformat": 4,
  "nbformat_minor": 0,
  "metadata": {
    "colab": {
      "provenance": [],
      "authorship_tag": "ABX9TyOfixZvplP90XLsVOEiOhzv",
      "include_colab_link": true
    },
    "kernelspec": {
      "name": "python3",
      "display_name": "Python 3"
    },
    "language_info": {
      "name": "python"
    }
  },
  "cells": [
    {
      "cell_type": "markdown",
      "metadata": {
        "id": "view-in-github",
        "colab_type": "text"
      },
      "source": [
        "<a href=\"https://colab.research.google.com/github/aimlresearcher/PyTorch101/blob/main/001_Tensors.ipynb\" target=\"_parent\"><img src=\"https://colab.research.google.com/assets/colab-badge.svg\" alt=\"Open In Colab\"/></a>"
      ]
    },
    {
      "cell_type": "code",
      "execution_count": null,
      "metadata": {
        "colab": {
          "base_uri": "https://localhost:8080/"
        },
        "id": "y_3IX3UmCT7O",
        "outputId": "3e778dcd-34aa-4f2d-de74-5f5d0ab0847e"
      },
      "outputs": [
        {
          "output_type": "stream",
          "name": "stdout",
          "text": [
            "2.3.1+cu121\n"
          ]
        }
      ],
      "source": [
        "# Import the PyTorch library\n",
        "import torch\n",
        "\n",
        "# Print the version of the installed PyTorch library\n",
        "print(torch.__version__)\n"
      ]
    },
    {
      "cell_type": "code",
      "source": [
        "# Retrieve and return the current default data type used by PyTorch tensors\n",
        "torch.get_default_dtype()\n"
      ],
      "metadata": {
        "colab": {
          "base_uri": "https://localhost:8080/"
        },
        "id": "d7f8S_OHC7WB",
        "outputId": "abbf8c90-3f27-4ac1-c5d8-ec5722cca0a6"
      },
      "execution_count": null,
      "outputs": [
        {
          "output_type": "execute_result",
          "data": {
            "text/plain": [
              "torch.float64"
            ]
          },
          "metadata": {},
          "execution_count": 11
        }
      ]
    },
    {
      "cell_type": "code",
      "source": [
        "# Set the default data type for PyTorch tensors to 64-bit integer (int64)\n",
        "torch.set_default_dtype(torch.int64)"
      ],
      "metadata": {
        "colab": {
          "base_uri": "https://localhost:8080/",
          "height": 263
        },
        "id": "o6Mi2TsmDGtw",
        "outputId": "dac86b84-f687-46ab-d6bb-c4f5f0297df4"
      },
      "execution_count": null,
      "outputs": [
        {
          "output_type": "error",
          "ename": "TypeError",
          "evalue": "only floating-point types are supported as the default type",
          "traceback": [
            "\u001b[0;31m---------------------------------------------------------------------------\u001b[0m",
            "\u001b[0;31mTypeError\u001b[0m                                 Traceback (most recent call last)",
            "\u001b[0;32m<ipython-input-3-1afea4361c44>\u001b[0m in \u001b[0;36m<cell line: 1>\u001b[0;34m()\u001b[0m\n\u001b[0;32m----> 1\u001b[0;31m \u001b[0mtorch\u001b[0m\u001b[0;34m.\u001b[0m\u001b[0mset_default_dtype\u001b[0m\u001b[0;34m(\u001b[0m\u001b[0mtorch\u001b[0m\u001b[0;34m.\u001b[0m\u001b[0mint64\u001b[0m\u001b[0;34m)\u001b[0m\u001b[0;34m\u001b[0m\u001b[0;34m\u001b[0m\u001b[0m\n\u001b[0m",
            "\u001b[0;32m/usr/local/lib/python3.10/dist-packages/torch/__init__.py\u001b[0m in \u001b[0;36mset_default_dtype\u001b[0;34m(d)\u001b[0m\n\u001b[1;32m    794\u001b[0m \u001b[0;34m\u001b[0m\u001b[0m\n\u001b[1;32m    795\u001b[0m     \"\"\"\n\u001b[0;32m--> 796\u001b[0;31m     \u001b[0m_C\u001b[0m\u001b[0;34m.\u001b[0m\u001b[0m_set_default_dtype\u001b[0m\u001b[0;34m(\u001b[0m\u001b[0md\u001b[0m\u001b[0;34m)\u001b[0m\u001b[0;34m\u001b[0m\u001b[0;34m\u001b[0m\u001b[0m\n\u001b[0m\u001b[1;32m    797\u001b[0m \u001b[0;34m\u001b[0m\u001b[0m\n\u001b[1;32m    798\u001b[0m \u001b[0;32mdef\u001b[0m \u001b[0muse_deterministic_algorithms\u001b[0m\u001b[0;34m(\u001b[0m\u001b[0mmode\u001b[0m\u001b[0;34m:\u001b[0m \u001b[0mbuiltins\u001b[0m\u001b[0;34m.\u001b[0m\u001b[0mbool\u001b[0m\u001b[0;34m,\u001b[0m \u001b[0;34m*\u001b[0m\u001b[0;34m,\u001b[0m \u001b[0mwarn_only\u001b[0m\u001b[0;34m:\u001b[0m \u001b[0mbuiltins\u001b[0m\u001b[0;34m.\u001b[0m\u001b[0mbool\u001b[0m \u001b[0;34m=\u001b[0m \u001b[0;32mFalse\u001b[0m\u001b[0;34m)\u001b[0m \u001b[0;34m->\u001b[0m \u001b[0;32mNone\u001b[0m\u001b[0;34m:\u001b[0m\u001b[0;34m\u001b[0m\u001b[0;34m\u001b[0m\u001b[0m\n",
            "\u001b[0;31mTypeError\u001b[0m: only floating-point types are supported as the default type"
          ]
        }
      ]
    },
    {
      "cell_type": "code",
      "source": [
        "# Set the default data type for PyTorch tensors to 64-bit floating point (float64)\n",
        "torch.set_default_dtype(torch.float64)"
      ],
      "metadata": {
        "id": "HY4TVNuaDbsH"
      },
      "execution_count": null,
      "outputs": []
    },
    {
      "cell_type": "code",
      "source": [
        "# Retrieve and return the current default data type used by PyTorch tensors\n",
        "torch.get_default_dtype()"
      ],
      "metadata": {
        "colab": {
          "base_uri": "https://localhost:8080/"
        },
        "id": "sCgj3IumDhjm",
        "outputId": "8091dff3-55be-4658-b8d6-b1e2301002ae"
      },
      "execution_count": null,
      "outputs": [
        {
          "output_type": "execute_result",
          "data": {
            "text/plain": [
              "torch.float64"
            ]
          },
          "metadata": {},
          "execution_count": 5
        }
      ]
    },
    {
      "cell_type": "code",
      "source": [
        "# Create a 2D tensor with the specified values using the default data type\n",
        "tensor_arr = torch.Tensor([[1, 2, 3], [4, 5, 6]])\n",
        "\n",
        "# Display the created tensor\n",
        "tensor_arr\n"
      ],
      "metadata": {
        "colab": {
          "base_uri": "https://localhost:8080/"
        },
        "id": "XR48fK-8DoIn",
        "outputId": "d3421409-4dee-4493-f861-0aee67b3b871"
      },
      "execution_count": null,
      "outputs": [
        {
          "output_type": "execute_result",
          "data": {
            "text/plain": [
              "tensor([[1., 2., 3.],\n",
              "        [4., 5., 6.]])"
            ]
          },
          "metadata": {},
          "execution_count": 6
        }
      ]
    },
    {
      "cell_type": "code",
      "source": [
        "# Check if the variable 'tensor_arr' is a tensor and return a boolean value\n",
        "torch.is_tensor(tensor_arr)\n"
      ],
      "metadata": {
        "colab": {
          "base_uri": "https://localhost:8080/"
        },
        "id": "WqbgEvq6D58g",
        "outputId": "8f4eb954-f35f-4766-9988-899e1cb17d7b"
      },
      "execution_count": null,
      "outputs": [
        {
          "output_type": "execute_result",
          "data": {
            "text/plain": [
              "True"
            ]
          },
          "metadata": {},
          "execution_count": 7
        }
      ]
    },
    {
      "cell_type": "code",
      "source": [
        "# Return the total number of elements in the tensor 'tensor_arr'\n",
        "torch.numel(tensor_arr)"
      ],
      "metadata": {
        "colab": {
          "base_uri": "https://localhost:8080/"
        },
        "id": "Lt5bKkDuEaiL",
        "outputId": "7f0c4a5a-0e3e-483b-dbb1-9d7ed3141366"
      },
      "execution_count": null,
      "outputs": [
        {
          "output_type": "execute_result",
          "data": {
            "text/plain": [
              "6"
            ]
          },
          "metadata": {},
          "execution_count": 9
        }
      ]
    },
    {
      "cell_type": "code",
      "source": [
        "# Create an uninitialized 2x2 tensor with the default data type\n",
        "tensor_uninitialized = torch.Tensor(2, 2)\n",
        "\n",
        "# Display the uninitialized tensor\n",
        "tensor_uninitialized"
      ],
      "metadata": {
        "id": "GjG-MoYPEo_e",
        "colab": {
          "base_uri": "https://localhost:8080/"
        },
        "outputId": "200b4ed1-8105-47b3-db6f-159dea79a0c9"
      },
      "execution_count": 12,
      "outputs": [
        {
          "output_type": "execute_result",
          "data": {
            "text/plain": [
              "tensor([[6.8588e-310, 4.6804e-310],\n",
              "        [1.5810e-322, 3.1620e-322]])"
            ]
          },
          "metadata": {},
          "execution_count": 12
        }
      ]
    },
    {
      "cell_type": "code",
      "source": [
        "# Create a 2x2 tensor with random values uniformly distributed between 0 and 1\n",
        "tensor_initialized = torch.rand(2, 2)\n",
        "\n",
        "# Display the initialized tensor with random values\n",
        "tensor_initialized"
      ],
      "metadata": {
        "colab": {
          "base_uri": "https://localhost:8080/"
        },
        "id": "snL79ELrQb3E",
        "outputId": "8532306c-c3ab-421d-9235-81f434e99801"
      },
      "execution_count": 13,
      "outputs": [
        {
          "output_type": "execute_result",
          "data": {
            "text/plain": [
              "tensor([[0.9190, 0.2329],\n",
              "        [0.4474, 0.0105]])"
            ]
          },
          "metadata": {},
          "execution_count": 13
        }
      ]
    },
    {
      "cell_type": "code",
      "source": [
        "# Create a tensor with the specified values and explicitly set its data type to 32-bit integer (IntTensor)\n",
        "tensor_int = torch.tensor([5, 3]).type(torch.IntTensor)\n",
        "\n",
        "# Display the tensor with integer values\n",
        "tensor_int"
      ],
      "metadata": {
        "colab": {
          "base_uri": "https://localhost:8080/"
        },
        "id": "gp3XB8cVQjNP",
        "outputId": "f17fd32c-aadc-477b-d23a-c6182b274b2f"
      },
      "execution_count": 14,
      "outputs": [
        {
          "output_type": "execute_result",
          "data": {
            "text/plain": [
              "tensor([5, 3], dtype=torch.int32)"
            ]
          },
          "metadata": {},
          "execution_count": 14
        }
      ]
    },
    {
      "cell_type": "code",
      "source": [
        "# Create a tensor with the specified floating-point values and set its data type to 16-bit integer (ShortTensor)\n",
        "tensor_short = torch.ShortTensor([1.0, 2.0, 3.0])\n",
        "\n",
        "# Display the tensor with values converted to 16-bit integers\n",
        "tensor_short"
      ],
      "metadata": {
        "colab": {
          "base_uri": "https://localhost:8080/"
        },
        "id": "sC8OAugfQpjw",
        "outputId": "eed584bc-afae-45d4-b858-d783606f8e90"
      },
      "execution_count": 15,
      "outputs": [
        {
          "output_type": "execute_result",
          "data": {
            "text/plain": [
              "tensor([1, 2, 3], dtype=torch.int16)"
            ]
          },
          "metadata": {},
          "execution_count": 15
        }
      ]
    },
    {
      "cell_type": "code",
      "source": [
        "# Create a tensor with the specified floating-point values and explicitly set its data type to 16-bit floating point (half precision)\n",
        "tensor_float = torch.tensor([1.0, 2.0, 3.0]).type(torch.half)\n",
        "\n",
        "# Display the tensor with values in half precision\n",
        "tensor_float"
      ],
      "metadata": {
        "colab": {
          "base_uri": "https://localhost:8080/"
        },
        "id": "5-Oa5EFUQvIo",
        "outputId": "578e5cfb-e57c-49c0-eafc-96d534278113"
      },
      "execution_count": 16,
      "outputs": [
        {
          "output_type": "execute_result",
          "data": {
            "text/plain": [
              "tensor([1., 2., 3.], dtype=torch.float16)"
            ]
          },
          "metadata": {},
          "execution_count": 16
        }
      ]
    },
    {
      "cell_type": "code",
      "source": [
        "# Create a 2x6 tensor where all elements are initialized to the value 10\n",
        "tensor_fill = torch.full((2, 6), fill_value=10)\n",
        "\n",
        "# Display the tensor with all elements set to 10\n",
        "tensor_fill\n"
      ],
      "metadata": {
        "colab": {
          "base_uri": "https://localhost:8080/"
        },
        "id": "kq_qno6MQ0jU",
        "outputId": "c5d8c5d8-f2ec-4365-9d75-e62b93332e83"
      },
      "execution_count": 17,
      "outputs": [
        {
          "output_type": "execute_result",
          "data": {
            "text/plain": [
              "tensor([[10, 10, 10, 10, 10, 10],\n",
              "        [10, 10, 10, 10, 10, 10]])"
            ]
          },
          "metadata": {},
          "execution_count": 17
        }
      ]
    },
    {
      "cell_type": "code",
      "source": [
        "# Create a 2x4 tensor where all elements are initialized to 1, with data type set to 32-bit integer (int32)\n",
        "tensor_of_ones = torch.ones([2, 4], dtype=torch.int32)\n",
        "\n",
        "# Display the tensor with all elements set to 1\n",
        "tensor_of_ones\n"
      ],
      "metadata": {
        "colab": {
          "base_uri": "https://localhost:8080/"
        },
        "id": "J61mxoi7Q6q8",
        "outputId": "0f12fc57-8d88-4bd6-bcca-94c67a27383f"
      },
      "execution_count": 18,
      "outputs": [
        {
          "output_type": "execute_result",
          "data": {
            "text/plain": [
              "tensor([[1, 1, 1, 1],\n",
              "        [1, 1, 1, 1]], dtype=torch.int32)"
            ]
          },
          "metadata": {},
          "execution_count": 18
        }
      ]
    },
    {
      "cell_type": "code",
      "source": [
        "# Create a tensor of the same shape and data type as 'tensor_of_ones', but with all elements initialized to 0\n",
        "tensor_of_zeroes = torch.zeros_like(tensor_of_ones)\n",
        "\n",
        "# Display the tensor with all elements set to 0\n",
        "tensor_of_zeroes"
      ],
      "metadata": {
        "colab": {
          "base_uri": "https://localhost:8080/"
        },
        "id": "JeAR6e3DRAZm",
        "outputId": "61a3b4fd-e34a-4f57-e3be-cc7ea1f2a899"
      },
      "execution_count": 19,
      "outputs": [
        {
          "output_type": "execute_result",
          "data": {
            "text/plain": [
              "tensor([[0, 0, 0, 0],\n",
              "        [0, 0, 0, 0]], dtype=torch.int32)"
            ]
          },
          "metadata": {},
          "execution_count": 19
        }
      ]
    },
    {
      "cell_type": "code",
      "source": [
        "# Create a 5x5 identity matrix with ones on the diagonal and zeros elsewhere\n",
        "tensor_eye = torch.eye(5)\n",
        "\n",
        "# Display the identity matrix\n",
        "tensor_eye"
      ],
      "metadata": {
        "colab": {
          "base_uri": "https://localhost:8080/"
        },
        "id": "DAT-xq4eRFdx",
        "outputId": "5053edbe-d4be-4e8a-9d8d-fc9e0482de7a"
      },
      "execution_count": 20,
      "outputs": [
        {
          "output_type": "execute_result",
          "data": {
            "text/plain": [
              "tensor([[1., 0., 0., 0., 0.],\n",
              "        [0., 1., 0., 0., 0.],\n",
              "        [0., 0., 1., 0., 0.],\n",
              "        [0., 0., 0., 1., 0.],\n",
              "        [0., 0., 0., 0., 1.]])"
            ]
          },
          "metadata": {},
          "execution_count": 20
        }
      ]
    },
    {
      "cell_type": "code",
      "source": [
        "# Find the indices of non-zero elements in the 'tensor_eye' tensor\n",
        "non_zero = torch.nonzero(tensor_eye)\n",
        "\n",
        "# Display the indices of non-zero elements in the tensor\n",
        "non_zero"
      ],
      "metadata": {
        "colab": {
          "base_uri": "https://localhost:8080/"
        },
        "id": "L3OGl8XPRKti",
        "outputId": "0ccdce2e-0093-4968-9874-c665a4dc5fec"
      },
      "execution_count": 21,
      "outputs": [
        {
          "output_type": "execute_result",
          "data": {
            "text/plain": [
              "tensor([[0, 0],\n",
              "        [1, 1],\n",
              "        [2, 2],\n",
              "        [3, 3],\n",
              "        [4, 4]])"
            ]
          },
          "metadata": {},
          "execution_count": 21
        }
      ]
    },
    {
      "cell_type": "code",
      "source": [
        "# Create a 2x3 tensor with the specified integer values\n",
        "i = torch.tensor([[0, 1, 1],\n",
        "                  [2, 2, 0]])\n",
        "\n",
        "# Display the tensor 'i'\n",
        "i"
      ],
      "metadata": {
        "colab": {
          "base_uri": "https://localhost:8080/"
        },
        "id": "vcYKJwR-RR9X",
        "outputId": "d6a74861-c0a8-43c9-d4b3-355b55da46ce"
      },
      "execution_count": 22,
      "outputs": [
        {
          "output_type": "execute_result",
          "data": {
            "text/plain": [
              "tensor([[0, 1, 1],\n",
              "        [2, 2, 0]])"
            ]
          },
          "metadata": {},
          "execution_count": 22
        }
      ]
    },
    {
      "cell_type": "code",
      "source": [
        "# Create a 1D tensor with the specified floating-point values and set the data type to 32-bit floating point (float32)\n",
        "v = torch.tensor([3, 4, 5], dtype=torch.float32)\n",
        "\n",
        "# Display the tensor 'v'\n",
        "v"
      ],
      "metadata": {
        "colab": {
          "base_uri": "https://localhost:8080/"
        },
        "id": "Ng5GXuSnRYTe",
        "outputId": "2c2c869b-a547-4370-b978-b64c834b62b8"
      },
      "execution_count": 24,
      "outputs": [
        {
          "output_type": "execute_result",
          "data": {
            "text/plain": [
              "tensor([3., 4., 5.], dtype=torch.float32)"
            ]
          },
          "metadata": {},
          "execution_count": 24
        }
      ]
    },
    {
      "cell_type": "code",
      "source": [
        "# Create a sparse tensor using COO (Coordinate) format with the given indices 'i', values 'v', and size [2, 5]\n",
        "sparse_tensor = torch.sparse_coo_tensor(i, v, [2, 5])\n",
        "\n",
        "# Access and display the data of the sparse tensor\n",
        "sparse_tensor.data"
      ],
      "metadata": {
        "colab": {
          "base_uri": "https://localhost:8080/"
        },
        "id": "bJ-VhENTRavT",
        "outputId": "17fe767e-5fe3-4638-f1c3-9ad1fbe333ae"
      },
      "execution_count": 25,
      "outputs": [
        {
          "output_type": "execute_result",
          "data": {
            "text/plain": [
              "tensor(indices=tensor([[0, 1, 1],\n",
              "                       [2, 2, 0]]),\n",
              "       values=tensor([3., 4., 5.]),\n",
              "       size=(2, 5), nnz=3, dtype=torch.float32, layout=torch.sparse_coo)"
            ]
          },
          "metadata": {},
          "execution_count": 25
        }
      ]
    },
    {
      "cell_type": "code",
      "source": [
        "# Create a 2x3 tensor with random values uniformly distributed between 0 and 1\n",
        "initial_tensor = torch.rand(2, 3)\n",
        "\n",
        "# Display the tensor with random values\n",
        "initial_tensor\n"
      ],
      "metadata": {
        "colab": {
          "base_uri": "https://localhost:8080/"
        },
        "id": "OT7_YVzMRr2L",
        "outputId": "4f54c7c8-c70a-4604-9069-423c965793cd"
      },
      "execution_count": 26,
      "outputs": [
        {
          "output_type": "execute_result",
          "data": {
            "text/plain": [
              "tensor([[0.6146, 0.3359, 0.0117],\n",
              "        [0.8636, 0.5271, 0.1911]])"
            ]
          },
          "metadata": {},
          "execution_count": 26
        }
      ]
    },
    {
      "cell_type": "code",
      "source": [
        "# Fill all elements of the 'initial_tensor' with the value 10\n",
        "initial_tensor.fill_(10)\n",
        "\n",
        "# Display the tensor after filling it with 10s\n",
        "initial_tensor\n"
      ],
      "metadata": {
        "colab": {
          "base_uri": "https://localhost:8080/"
        },
        "id": "kHkjOID0SN_s",
        "outputId": "cd665068-a731-4799-c9e4-ff04ab1f13b7"
      },
      "execution_count": 27,
      "outputs": [
        {
          "output_type": "execute_result",
          "data": {
            "text/plain": [
              "tensor([[10., 10., 10.],\n",
              "        [10., 10., 10.]])"
            ]
          },
          "metadata": {},
          "execution_count": 27
        }
      ]
    },
    {
      "cell_type": "code",
      "source": [
        "# Create a new tensor by adding 5 to each element of 'initial_tensor'\n",
        "new_tensor = initial_tensor.add(5)\n",
        "\n",
        "# Display the new tensor with updated values\n",
        "new_tensor"
      ],
      "metadata": {
        "colab": {
          "base_uri": "https://localhost:8080/"
        },
        "id": "O5F0vhaRSVHE",
        "outputId": "fb657fca-2f5e-4132-9046-3521155ae4a7"
      },
      "execution_count": 29,
      "outputs": [
        {
          "output_type": "execute_result",
          "data": {
            "text/plain": [
              "tensor([[15., 15., 15.],\n",
              "        [15., 15., 15.]])"
            ]
          },
          "metadata": {},
          "execution_count": 29
        }
      ]
    },
    {
      "cell_type": "code",
      "source": [
        "# Display the original 'initial_tensor' to show it has not been modified by the addition operation\n",
        "initial_tensor"
      ],
      "metadata": {
        "colab": {
          "base_uri": "https://localhost:8080/"
        },
        "id": "tEDQgftDShbj",
        "outputId": "e5938a5f-9971-42fb-aa86-1fe3fa1e2a87"
      },
      "execution_count": 30,
      "outputs": [
        {
          "output_type": "execute_result",
          "data": {
            "text/plain": [
              "tensor([[10., 10., 10.],\n",
              "        [10., 10., 10.]])"
            ]
          },
          "metadata": {},
          "execution_count": 30
        }
      ]
    },
    {
      "cell_type": "code",
      "source": [
        "# In-place addition: add 8 to each element of 'initial_tensor' and modify it directly\n",
        "initial_tensor.add_(8)\n",
        "\n",
        "# Display the updated 'initial_tensor' with the added values\n",
        "initial_tensor"
      ],
      "metadata": {
        "colab": {
          "base_uri": "https://localhost:8080/"
        },
        "id": "ZFD7YB20StxI",
        "outputId": "10c2a3bf-9cbc-4eff-ef75-f098a6329b49"
      },
      "execution_count": 31,
      "outputs": [
        {
          "output_type": "execute_result",
          "data": {
            "text/plain": [
              "tensor([[18., 18., 18.],\n",
              "        [18., 18., 18.]])"
            ]
          },
          "metadata": {},
          "execution_count": 31
        }
      ]
    },
    {
      "cell_type": "code",
      "source": [
        "# Display 'new_tensor' to show it remains unchanged after modifying 'initial_tensor'\n",
        "new_tensor"
      ],
      "metadata": {
        "colab": {
          "base_uri": "https://localhost:8080/"
        },
        "id": "R4Kv0GK7Sz6w",
        "outputId": "7ebbd11f-b23e-47f4-b8c6-7537e5ca8b91"
      },
      "execution_count": 32,
      "outputs": [
        {
          "output_type": "execute_result",
          "data": {
            "text/plain": [
              "tensor([[15., 15., 15.],\n",
              "        [15., 15., 15.]])"
            ]
          },
          "metadata": {},
          "execution_count": 32
        }
      ]
    },
    {
      "cell_type": "code",
      "source": [
        "# In-place operation: compute the square root of each element in 'new_tensor' and modify it directly\n",
        "new_tensor.sqrt_()\n",
        "\n",
        "# Display the updated 'new_tensor' with square root values\n",
        "new_tensor\n"
      ],
      "metadata": {
        "colab": {
          "base_uri": "https://localhost:8080/"
        },
        "id": "hf2yItRGS4gQ",
        "outputId": "394fa013-be8d-4c25-ee67-01b72329deb1"
      },
      "execution_count": 33,
      "outputs": [
        {
          "output_type": "execute_result",
          "data": {
            "text/plain": [
              "tensor([[3.8730, 3.8730, 3.8730],\n",
              "        [3.8730, 3.8730, 3.8730]])"
            ]
          },
          "metadata": {},
          "execution_count": 33
        }
      ]
    },
    {
      "cell_type": "code",
      "source": [
        "# Create a 1D tensor with 15 equally spaced values between 0.1 and 10.0\n",
        "x = torch.linspace(start=0.1, end=10.0, steps=15)\n",
        "\n",
        "# Display the tensor 'x' with the generated values\n",
        "x\n"
      ],
      "metadata": {
        "colab": {
          "base_uri": "https://localhost:8080/"
        },
        "id": "JSKgqX-HS9l0",
        "outputId": "9d2b6fd8-7dcb-4f48-a9a5-7868481c29b7"
      },
      "execution_count": 34,
      "outputs": [
        {
          "output_type": "execute_result",
          "data": {
            "text/plain": [
              "tensor([ 0.1000,  0.8071,  1.5143,  2.2214,  2.9286,  3.6357,  4.3429,  5.0500,\n",
              "         5.7571,  6.4643,  7.1714,  7.8786,  8.5857,  9.2929, 10.0000])"
            ]
          },
          "metadata": {},
          "execution_count": 34
        }
      ]
    },
    {
      "cell_type": "code",
      "source": [
        "# Split the tensor 'x' into 3 chunks along the specified dimension (0)\n",
        "tensor_chunk = torch.chunk(x, 3, 0)\n",
        "\n",
        "# Display the list of tensors resulting from the chunk operation\n",
        "tensor_chunk\n"
      ],
      "metadata": {
        "colab": {
          "base_uri": "https://localhost:8080/"
        },
        "id": "PFiJ4DRJTCmm",
        "outputId": "ed1d2ccc-edf4-44b6-96b2-d687fd18e77b"
      },
      "execution_count": 35,
      "outputs": [
        {
          "output_type": "execute_result",
          "data": {
            "text/plain": [
              "(tensor([0.1000, 0.8071, 1.5143, 2.2214, 2.9286]),\n",
              " tensor([3.6357, 4.3429, 5.0500, 5.7571, 6.4643]),\n",
              " tensor([ 7.1714,  7.8786,  8.5857,  9.2929, 10.0000]))"
            ]
          },
          "metadata": {},
          "execution_count": 35
        }
      ]
    },
    {
      "cell_type": "code",
      "source": [
        "# Access the first chunk from 'tensor_chunk'\n",
        "tensor1 = tensor_chunk[0]\n",
        "\n",
        "# Access the second chunk from 'tensor_chunk'\n",
        "tensor2 = tensor_chunk[1]\n",
        "\n",
        "# Create a new tensor with specified values\n",
        "tensor3 = torch.tensor([3.0, 4.0, 5.0])\n",
        "\n",
        "# Concatenate 'tensor1', 'tensor2', and 'tensor3' along dimension 0\n",
        "torch.cat((tensor1, tensor2, tensor3), 0)\n"
      ],
      "metadata": {
        "colab": {
          "base_uri": "https://localhost:8080/"
        },
        "id": "R1UrcHdoTIvI",
        "outputId": "3cbdafe7-f410-4d51-b503-a73ad15b1e64"
      },
      "execution_count": 36,
      "outputs": [
        {
          "output_type": "execute_result",
          "data": {
            "text/plain": [
              "tensor([0.1000, 0.8071, 1.5143, 2.2214, 2.9286, 3.6357, 4.3429, 5.0500, 5.7571,\n",
              "        6.4643, 3.0000, 4.0000, 5.0000])"
            ]
          },
          "metadata": {},
          "execution_count": 36
        }
      ]
    },
    {
      "cell_type": "code",
      "source": [
        "# Create a 3x3 tensor with the specified integer values\n",
        "random_tensor = torch.Tensor([[10, 8, 30], [40, 5, 6], [12, 2, 21]])\n",
        "\n",
        "# Display the tensor 'random_tensor'\n",
        "random_tensor\n"
      ],
      "metadata": {
        "colab": {
          "base_uri": "https://localhost:8080/"
        },
        "id": "is8JxbsjTN7I",
        "outputId": "62ca61af-766e-4989-e6f4-d988f6a5fb41"
      },
      "execution_count": 37,
      "outputs": [
        {
          "output_type": "execute_result",
          "data": {
            "text/plain": [
              "tensor([[10.,  8., 30.],\n",
              "        [40.,  5.,  6.],\n",
              "        [12.,  2., 21.]])"
            ]
          },
          "metadata": {},
          "execution_count": 37
        }
      ]
    },
    {
      "cell_type": "code",
      "source": [
        "# Access the element at the first row and second column of 'random_tensor'\n",
        "random_tensor[0, 1]\n"
      ],
      "metadata": {
        "colab": {
          "base_uri": "https://localhost:8080/"
        },
        "id": "bHMSQ7QvTUXE",
        "outputId": "94e4f0c1-864c-4b27-b06d-fe77f2fb1687"
      },
      "execution_count": 38,
      "outputs": [
        {
          "output_type": "execute_result",
          "data": {
            "text/plain": [
              "tensor(8.)"
            ]
          },
          "metadata": {},
          "execution_count": 38
        }
      ]
    },
    {
      "cell_type": "code",
      "source": [
        "# Access a sub-tensor of 'random_tensor' starting from the second row and second column to the end\n",
        "random_tensor[1:, 1:]\n"
      ],
      "metadata": {
        "colab": {
          "base_uri": "https://localhost:8080/"
        },
        "id": "3qB-qOr9TZEF",
        "outputId": "ed5debe9-a348-4d85-d920-ba4dfa736a62"
      },
      "execution_count": 39,
      "outputs": [
        {
          "output_type": "execute_result",
          "data": {
            "text/plain": [
              "tensor([[ 5.,  6.],\n",
              "        [ 2., 21.]])"
            ]
          },
          "metadata": {},
          "execution_count": 39
        }
      ]
    },
    {
      "cell_type": "code",
      "source": [
        "# Split the tensor 'random_tensor' into chunks of size 2 along the first dimension\n",
        "random_tensor_split = torch.split(random_tensor, 2)\n",
        "\n",
        "# Display the list of tensors resulting from the split operation\n",
        "random_tensor_split\n"
      ],
      "metadata": {
        "colab": {
          "base_uri": "https://localhost:8080/"
        },
        "id": "Fhft9mKVTdmc",
        "outputId": "ba7e5203-7a51-4d29-bbf8-8344eff73247"
      },
      "execution_count": 40,
      "outputs": [
        {
          "output_type": "execute_result",
          "data": {
            "text/plain": [
              "(tensor([[10.,  8., 30.],\n",
              "         [40.,  5.,  6.]]),\n",
              " tensor([[12.,  2., 21.]]))"
            ]
          },
          "metadata": {},
          "execution_count": 40
        }
      ]
    },
    {
      "cell_type": "code",
      "source": [
        "random_tensor"
      ],
      "metadata": {
        "colab": {
          "base_uri": "https://localhost:8080/"
        },
        "id": "xFY8OgCUTh7O",
        "outputId": "6a5865cb-20d2-4b85-968a-441077a7a874"
      },
      "execution_count": 41,
      "outputs": [
        {
          "output_type": "execute_result",
          "data": {
            "text/plain": [
              "tensor([[10.,  8., 30.],\n",
              "        [40.,  5.,  6.],\n",
              "        [12.,  2., 21.]])"
            ]
          },
          "metadata": {},
          "execution_count": 41
        }
      ]
    },
    {
      "cell_type": "code",
      "source": [
        "# Return the size of 'random_tensor'\n",
        "random_tensor.size()\n"
      ],
      "metadata": {
        "colab": {
          "base_uri": "https://localhost:8080/"
        },
        "id": "Sy7HCALwUhZS",
        "outputId": "5f42887b-fb38-4944-a02b-8b38a15a1e54"
      },
      "execution_count": 42,
      "outputs": [
        {
          "output_type": "execute_result",
          "data": {
            "text/plain": [
              "torch.Size([3, 3])"
            ]
          },
          "metadata": {},
          "execution_count": 42
        }
      ]
    },
    {
      "cell_type": "code",
      "source": [
        "# Reshape 'random_tensor' to a 1D tensor with 9 elements\n",
        "resized_tensor = random_tensor.view(9)\n",
        "resized_tensor"
      ],
      "metadata": {
        "colab": {
          "base_uri": "https://localhost:8080/"
        },
        "id": "BjTzBU2gUnfM",
        "outputId": "4f300038-b1cb-4879-f446-deb3b552a8db"
      },
      "execution_count": 43,
      "outputs": [
        {
          "output_type": "execute_result",
          "data": {
            "text/plain": [
              "tensor([10.,  8., 30., 40.,  5.,  6., 12.,  2., 21.])"
            ]
          },
          "metadata": {},
          "execution_count": 43
        }
      ]
    },
    {
      "cell_type": "code",
      "source": [
        "# Attempt to reshape 'random_tensor' to a 2D tensor with 6 columns (which is not possible for the current tensor)\n",
        "resized_tensor = random_tensor.view(-1, 6)\n",
        "resized_tensor"
      ],
      "metadata": {
        "colab": {
          "base_uri": "https://localhost:8080/",
          "height": 193
        },
        "id": "Jfm0OxMAUr1k",
        "outputId": "8ee25fbc-63fa-4d83-b77c-26657a3170d4"
      },
      "execution_count": 44,
      "outputs": [
        {
          "output_type": "error",
          "ename": "RuntimeError",
          "evalue": "shape '[-1, 6]' is invalid for input of size 9",
          "traceback": [
            "\u001b[0;31m---------------------------------------------------------------------------\u001b[0m",
            "\u001b[0;31mRuntimeError\u001b[0m                              Traceback (most recent call last)",
            "\u001b[0;32m<ipython-input-44-aa46e9bcd49b>\u001b[0m in \u001b[0;36m<cell line: 2>\u001b[0;34m()\u001b[0m\n\u001b[1;32m      1\u001b[0m \u001b[0;31m# Attempt to reshape 'random_tensor' to a 2D tensor with 6 columns (which is not possible for the current tensor)\u001b[0m\u001b[0;34m\u001b[0m\u001b[0;34m\u001b[0m\u001b[0m\n\u001b[0;32m----> 2\u001b[0;31m \u001b[0mresized_tensor\u001b[0m \u001b[0;34m=\u001b[0m \u001b[0mrandom_tensor\u001b[0m\u001b[0;34m.\u001b[0m\u001b[0mview\u001b[0m\u001b[0;34m(\u001b[0m\u001b[0;34m-\u001b[0m\u001b[0;36m1\u001b[0m\u001b[0;34m,\u001b[0m \u001b[0;36m6\u001b[0m\u001b[0;34m)\u001b[0m\u001b[0;34m\u001b[0m\u001b[0;34m\u001b[0m\u001b[0m\n\u001b[0m\u001b[1;32m      3\u001b[0m \u001b[0mresized_tensor\u001b[0m\u001b[0;34m\u001b[0m\u001b[0;34m\u001b[0m\u001b[0m\n",
            "\u001b[0;31mRuntimeError\u001b[0m: shape '[-1, 6]' is invalid for input of size 9"
          ]
        }
      ]
    },
    {
      "cell_type": "code",
      "source": [
        "# Display the size of the 'resized_tensor' to verify the reshaping operation\n",
        "resized_tensor.size()\n"
      ],
      "metadata": {
        "colab": {
          "base_uri": "https://localhost:8080/"
        },
        "id": "n-VSjkAzUudr",
        "outputId": "c4dcd36a-77d0-47d0-a259-3b11ea75f4d1"
      },
      "execution_count": 45,
      "outputs": [
        {
          "output_type": "execute_result",
          "data": {
            "text/plain": [
              "torch.Size([9])"
            ]
          },
          "metadata": {},
          "execution_count": 45
        }
      ]
    },
    {
      "cell_type": "code",
      "source": [
        "# Modify the original tensor by setting the value at position (2, 2) to 100.0\n",
        "random_tensor[2, 2] = 100.0\n",
        "resized_tensor"
      ],
      "metadata": {
        "colab": {
          "base_uri": "https://localhost:8080/"
        },
        "id": "XBLvCPRiU1Kl",
        "outputId": "09e0ae33-dc42-4f29-d3a6-e181afd7e26f"
      },
      "execution_count": 46,
      "outputs": [
        {
          "output_type": "execute_result",
          "data": {
            "text/plain": [
              "tensor([ 10.,   8.,  30.,  40.,   5.,   6.,  12.,   2., 100.])"
            ]
          },
          "metadata": {},
          "execution_count": 46
        }
      ]
    },
    {
      "cell_type": "code",
      "source": [
        "# Add a new dimension to 'random_tensor' at position 2\n",
        "tensor_unsqueeze = torch.unsqueeze(random_tensor, 2)\n",
        "tensor_unsqueeze"
      ],
      "metadata": {
        "colab": {
          "base_uri": "https://localhost:8080/"
        },
        "id": "NZRDgl8FU3gX",
        "outputId": "45e20954-72ce-436d-a9e2-37730b92d428"
      },
      "execution_count": 47,
      "outputs": [
        {
          "output_type": "execute_result",
          "data": {
            "text/plain": [
              "tensor([[[ 10.],\n",
              "         [  8.],\n",
              "         [ 30.]],\n",
              "\n",
              "        [[ 40.],\n",
              "         [  5.],\n",
              "         [  6.]],\n",
              "\n",
              "        [[ 12.],\n",
              "         [  2.],\n",
              "         [100.]]])"
            ]
          },
          "metadata": {},
          "execution_count": 47
        }
      ]
    },
    {
      "cell_type": "code",
      "source": [
        "# Display the shape of the tensor after adding a new dimension\n",
        "tensor_unsqueeze.shape"
      ],
      "metadata": {
        "colab": {
          "base_uri": "https://localhost:8080/"
        },
        "id": "Wrsj4sFFU7XW",
        "outputId": "4a2cfb40-a77e-41f6-e6ab-4e0772300e65"
      },
      "execution_count": 48,
      "outputs": [
        {
          "output_type": "execute_result",
          "data": {
            "text/plain": [
              "torch.Size([3, 3, 1])"
            ]
          },
          "metadata": {},
          "execution_count": 48
        }
      ]
    },
    {
      "cell_type": "code",
      "source": [
        "# Transpose 'initial_tensor' by swapping dimensions 0 and 1\n",
        "tensor_transpose = torch.transpose(initial_tensor, 0, 1)\n",
        "tensor_transpose"
      ],
      "metadata": {
        "colab": {
          "base_uri": "https://localhost:8080/"
        },
        "id": "n9RaxmxcU9qi",
        "outputId": "6d45e0dd-502f-404f-d01f-155f34e10b8e"
      },
      "execution_count": 49,
      "outputs": [
        {
          "output_type": "execute_result",
          "data": {
            "text/plain": [
              "tensor([[18., 18.],\n",
              "        [18., 18.],\n",
              "        [18., 18.]])"
            ]
          },
          "metadata": {},
          "execution_count": 49
        }
      ]
    },
    {
      "cell_type": "code",
      "source": [
        "# Sort 'random_tensor' along the last dimension and obtain sorted values and their indices\n",
        "sorted_tensor, sorted_indices = torch.sort(random_tensor)\n"
      ],
      "metadata": {
        "id": "w2ixOVx_U_g-"
      },
      "execution_count": 50,
      "outputs": []
    },
    {
      "cell_type": "code",
      "source": [
        "# Display the sorted tensor\n",
        "sorted_tensor"
      ],
      "metadata": {
        "colab": {
          "base_uri": "https://localhost:8080/"
        },
        "id": "Nz0IsPahVDNg",
        "outputId": "5f2bb27d-d1d0-4817-bc5c-161269598774"
      },
      "execution_count": 51,
      "outputs": [
        {
          "output_type": "execute_result",
          "data": {
            "text/plain": [
              "tensor([[  8.,  10.,  30.],\n",
              "        [  5.,   6.,  40.],\n",
              "        [  2.,  12., 100.]])"
            ]
          },
          "metadata": {},
          "execution_count": 51
        }
      ]
    },
    {
      "cell_type": "code",
      "source": [
        "# Display the indices of the sorted values\n",
        "sorted_indices"
      ],
      "metadata": {
        "colab": {
          "base_uri": "https://localhost:8080/"
        },
        "id": "qbBVkifAVFNV",
        "outputId": "0f1b1e0d-5114-4272-bf7d-5f6c7abd229a"
      },
      "execution_count": 52,
      "outputs": [
        {
          "output_type": "execute_result",
          "data": {
            "text/plain": [
              "tensor([[1, 0, 2],\n",
              "        [1, 2, 0],\n",
              "        [1, 0, 2]])"
            ]
          },
          "metadata": {},
          "execution_count": 52
        }
      ]
    },
    {
      "cell_type": "code",
      "source": [
        "# Create a tensor with specified floating-point values\n",
        "tensor_float = torch.FloatTensor([-1.1, -2.2, 3.3])\n",
        "tensor_float"
      ],
      "metadata": {
        "colab": {
          "base_uri": "https://localhost:8080/"
        },
        "id": "CvBRvwqUVHKd",
        "outputId": "fd8012f6-8ea7-4873-a162-265a35c1f845"
      },
      "execution_count": 53,
      "outputs": [
        {
          "output_type": "execute_result",
          "data": {
            "text/plain": [
              "tensor([-1.1000, -2.2000,  3.3000], dtype=torch.float32)"
            ]
          },
          "metadata": {},
          "execution_count": 53
        }
      ]
    },
    {
      "cell_type": "code",
      "source": [
        "# Compute the absolute values of 'tensor_float'\n",
        "tensor_abs = torch.abs(tensor_float)\n",
        "tensor_abs"
      ],
      "metadata": {
        "colab": {
          "base_uri": "https://localhost:8080/"
        },
        "id": "UhVkMIsaVJ--",
        "outputId": "6de39708-799e-43e6-dc38-b683385a9c76"
      },
      "execution_count": 54,
      "outputs": [
        {
          "output_type": "execute_result",
          "data": {
            "text/plain": [
              "tensor([1.1000, 2.2000, 3.3000], dtype=torch.float32)"
            ]
          },
          "metadata": {},
          "execution_count": 54
        }
      ]
    },
    {
      "cell_type": "code",
      "source": [
        "# Add 2 to each element of 'initial_tensor' and return a new tensor\n",
        "new_tensor = torch.add(initial_tensor, 2)\n",
        "new_tensor"
      ],
      "metadata": {
        "colab": {
          "base_uri": "https://localhost:8080/"
        },
        "id": "u37kIyE8VLoX",
        "outputId": "b6957b2d-fe55-4912-e764-6b1b625d2959"
      },
      "execution_count": 55,
      "outputs": [
        {
          "output_type": "execute_result",
          "data": {
            "text/plain": [
              "tensor([[20., 20., 20.],\n",
              "        [20., 20., 20.]])"
            ]
          },
          "metadata": {},
          "execution_count": 55
        }
      ]
    },
    {
      "cell_type": "code",
      "source": [
        "# Perform an out-of-place addition of 10 to 'initial_tensor' and store the result in 'new_tensor'\n",
        "torch.add(initial_tensor, 10, new_tensor)"
      ],
      "metadata": {
        "colab": {
          "base_uri": "https://localhost:8080/"
        },
        "id": "8INi7YvvVN1S",
        "outputId": "5512c5e7-3611-404d-f52d-65ffa09e2d7e"
      },
      "execution_count": 56,
      "outputs": [
        {
          "output_type": "stream",
          "name": "stderr",
          "text": [
            "<ipython-input-56-58883ebc95bd>:2: UserWarning: This overload of add is deprecated:\n",
            "\tadd(Tensor input, Number alpha, Tensor other, *, Tensor out)\n",
            "Consider using one of the following signatures instead:\n",
            "\tadd(Tensor input, Tensor other, *, Number alpha, Tensor out) (Triggered internally at ../torch/csrc/utils/python_arg_parser.cpp:1578.)\n",
            "  torch.add(initial_tensor, 10, new_tensor)\n"
          ]
        },
        {
          "output_type": "execute_result",
          "data": {
            "text/plain": [
              "tensor([[218., 218., 218.],\n",
              "        [218., 218., 218.]])"
            ]
          },
          "metadata": {},
          "execution_count": 56
        }
      ]
    },
    {
      "cell_type": "code",
      "source": [
        "# Generate two random tensors and compute their element-wise absolute values\n",
        "rand1 = torch.abs(torch.randn(2, 3))\n",
        "rand2 = torch.abs(torch.randn(2, 3))\n",
        "\n",
        "# Perform element-wise addition of 'rand1' and 'rand2'\n",
        "add1 = rand1 + rand2\n",
        "add1"
      ],
      "metadata": {
        "colab": {
          "base_uri": "https://localhost:8080/"
        },
        "id": "uxhzDNhuVP2V",
        "outputId": "d0433265-3e47-4896-c58f-910229a9001a"
      },
      "execution_count": 57,
      "outputs": [
        {
          "output_type": "execute_result",
          "data": {
            "text/plain": [
              "tensor([[1.2656, 1.6537, 1.5678],\n",
              "        [0.7465, 0.5286, 2.2733]])"
            ]
          },
          "metadata": {},
          "execution_count": 57
        }
      ]
    },
    {
      "cell_type": "code",
      "source": [
        "# Perform element-wise addition of 'rand1' and 'rand2' using the torch.add method\n",
        "add2 = torch.add(rand1, rand2)\n",
        "add2"
      ],
      "metadata": {
        "colab": {
          "base_uri": "https://localhost:8080/"
        },
        "id": "FhVH30eqVTfi",
        "outputId": "0682135b-93f0-4396-8b36-de2e54fc5d8c"
      },
      "execution_count": 58,
      "outputs": [
        {
          "output_type": "execute_result",
          "data": {
            "text/plain": [
              "tensor([[1.2656, 1.6537, 1.5678],\n",
              "        [0.7465, 0.5286, 2.2733]])"
            ]
          },
          "metadata": {},
          "execution_count": 58
        }
      ]
    },
    {
      "cell_type": "code",
      "source": [
        "# Create a tensor with specified integer values\n",
        "tensor = torch.Tensor([[-1, -2, -3], [1, 2, 3]])\n",
        "\n",
        "# Perform element-wise division of 'tensor' by itself with an added small value (0.3)\n",
        "tensor_div = torch.div(tensor, tensor + 0.3)\n",
        "tensor_div"
      ],
      "metadata": {
        "colab": {
          "base_uri": "https://localhost:8080/"
        },
        "id": "gD3GB33xVWBr",
        "outputId": "ea5031a9-594b-4512-c6f3-b0961b4a89f4"
      },
      "execution_count": 59,
      "outputs": [
        {
          "output_type": "execute_result",
          "data": {
            "text/plain": [
              "tensor([[1.4286, 1.1765, 1.1111],\n",
              "        [0.7692, 0.8696, 0.9091]])"
            ]
          },
          "metadata": {},
          "execution_count": 59
        }
      ]
    },
    {
      "cell_type": "code",
      "source": [
        "# Perform element-wise multiplication of 'tensor' by itself\n",
        "tensor_mul = torch.mul(tensor, tensor)\n",
        "tensor_mul"
      ],
      "metadata": {
        "colab": {
          "base_uri": "https://localhost:8080/"
        },
        "id": "-_WncOzjVbKz",
        "outputId": "086eaa5d-5a3a-4852-eac7-86d0538837c6"
      },
      "execution_count": 60,
      "outputs": [
        {
          "output_type": "execute_result",
          "data": {
            "text/plain": [
              "tensor([[1., 4., 9.],\n",
              "        [1., 4., 9.]])"
            ]
          },
          "metadata": {},
          "execution_count": 60
        }
      ]
    },
    {
      "cell_type": "code",
      "source": [
        "# Clamp the values of 'tensor' to be within the range [-0.2, 2]\n",
        "tensor_clamp = torch.clamp(tensor, min=-0.2, max=2)\n",
        "tensor_clamp"
      ],
      "metadata": {
        "colab": {
          "base_uri": "https://localhost:8080/"
        },
        "id": "-15ly3XZVdik",
        "outputId": "77cdb856-0bb2-4ede-f3ad-0ca4f689b8ff"
      },
      "execution_count": 61,
      "outputs": [
        {
          "output_type": "execute_result",
          "data": {
            "text/plain": [
              "tensor([[-0.2000, -0.2000, -0.2000],\n",
              "        [ 1.0000,  2.0000,  2.0000]])"
            ]
          },
          "metadata": {},
          "execution_count": 61
        }
      ]
    },
    {
      "cell_type": "code",
      "source": [
        "# Create two 1D tensors\n",
        "t1 = torch.Tensor([1, 2])\n",
        "t2 = torch.Tensor([10, 20])\n",
        "\n",
        "# Compute the dot product of 't1' and 't2'\n",
        "dot_product = torch.dot(t1, t2)\n",
        "dot_product"
      ],
      "metadata": {
        "colab": {
          "base_uri": "https://localhost:8080/"
        },
        "id": "f2qGIPJGVfZJ",
        "outputId": "9d73f726-cfba-41fd-a1ef-60a37a5e990c"
      },
      "execution_count": 62,
      "outputs": [
        {
          "output_type": "execute_result",
          "data": {
            "text/plain": [
              "tensor(50.)"
            ]
          },
          "metadata": {},
          "execution_count": 62
        }
      ]
    },
    {
      "cell_type": "code",
      "source": [
        "# Create a 2x3 matrix and a 1D vector\n",
        "matrix = torch.Tensor([[1, 2, 3], [4, 5, 6]])\n",
        "vector = torch.Tensor([0, 1, 2])\n",
        "\n",
        "# Compute the matrix-vector product of 'matrix' and 'vector'\n",
        "matrix_vector = torch.mv(matrix, vector)\n",
        "matrix_vector"
      ],
      "metadata": {
        "colab": {
          "base_uri": "https://localhost:8080/"
        },
        "id": "WAnmUGTdViEp",
        "outputId": "6b830d90-e924-4904-d9b8-e69fa41e843b"
      },
      "execution_count": 63,
      "outputs": [
        {
          "output_type": "execute_result",
          "data": {
            "text/plain": [
              "tensor([ 8., 17.])"
            ]
          },
          "metadata": {},
          "execution_count": 63
        }
      ]
    },
    {
      "cell_type": "code",
      "source": [
        "# Create another 2x2 matrix\n",
        "another_matrix = torch.Tensor([[10, 30], [20, 0], [0, 50]])\n",
        "\n",
        "# Compute the matrix multiplication of 'matrix' and 'another_matrix'\n",
        "matrix_mul = torch.mm(matrix, another_matrix)\n",
        "matrix_mul"
      ],
      "metadata": {
        "colab": {
          "base_uri": "https://localhost:8080/"
        },
        "id": "Ph_gO5LXVpgx",
        "outputId": "feff68a2-3515-431f-88d3-affb2aeb3055"
      },
      "execution_count": 64,
      "outputs": [
        {
          "output_type": "execute_result",
          "data": {
            "text/plain": [
              "tensor([[ 50., 180.],\n",
              "        [140., 420.]])"
            ]
          },
          "metadata": {},
          "execution_count": 64
        }
      ]
    },
    {
      "cell_type": "code",
      "source": [
        "# Find the indices of the maximum values along dimension 1 of 'matrix_mul'\n",
        "torch.argmax(matrix_mul, dim=1)\n"
      ],
      "metadata": {
        "colab": {
          "base_uri": "https://localhost:8080/"
        },
        "id": "Wx2bgrPlVvTs",
        "outputId": "deb3ac9d-7e3e-486e-d4df-afb90a36cad2"
      },
      "execution_count": 65,
      "outputs": [
        {
          "output_type": "execute_result",
          "data": {
            "text/plain": [
              "tensor([1, 1])"
            ]
          },
          "metadata": {},
          "execution_count": 65
        }
      ]
    },
    {
      "cell_type": "code",
      "source": [
        "# Find the indices of the minimum values along dimension 1 of 'matrix_mul'\n",
        "torch.argmin(matrix_mul, dim=1)"
      ],
      "metadata": {
        "colab": {
          "base_uri": "https://localhost:8080/"
        },
        "id": "dEHgspNAVyEv",
        "outputId": "35ad0db7-9cb7-47e7-f07e-1e82922f88e2"
      },
      "execution_count": 66,
      "outputs": [
        {
          "output_type": "execute_result",
          "data": {
            "text/plain": [
              "tensor([0, 0])"
            ]
          },
          "metadata": {},
          "execution_count": 66
        }
      ]
    },
    {
      "cell_type": "code",
      "source": [],
      "metadata": {
        "id": "zc9X7XIiVzzY"
      },
      "execution_count": null,
      "outputs": []
    }
  ]
}