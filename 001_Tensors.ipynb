{
  "nbformat": 4,
  "nbformat_minor": 0,
  "metadata": {
    "colab": {
      "provenance": [],
      "authorship_tag": "ABX9TyO0Ssiu0pu/aIzIp9kwsFNy",
      "include_colab_link": true
    },
    "kernelspec": {
      "name": "python3",
      "display_name": "Python 3"
    },
    "language_info": {
      "name": "python"
    }
  },
  "cells": [
    {
      "cell_type": "markdown",
      "metadata": {
        "id": "view-in-github",
        "colab_type": "text"
      },
      "source": [
        "<a href=\"https://colab.research.google.com/github/aimlresearcher/PyTorch101/blob/main/001_Tensors.ipynb\" target=\"_parent\"><img src=\"https://colab.research.google.com/assets/colab-badge.svg\" alt=\"Open In Colab\"/></a>"
      ]
    },
    {
      "cell_type": "code",
      "execution_count": 1,
      "metadata": {
        "colab": {
          "base_uri": "https://localhost:8080/"
        },
        "id": "y_3IX3UmCT7O",
        "outputId": "a52a7a20-cdd9-4638-8561-66064b8689b9"
      },
      "outputs": [
        {
          "output_type": "stream",
          "name": "stdout",
          "text": [
            "2.3.1+cu121\n"
          ]
        }
      ],
      "source": [
        "# Import the PyTorch library\n",
        "import torch\n",
        "\n",
        "# Print the version of the installed PyTorch library\n",
        "print(torch.__version__)"
      ]
    },
    {
      "cell_type": "code",
      "source": [
        "# Retrieve and return the current default data type used by PyTorch tensors\n",
        "torch.get_default_dtype()"
      ],
      "metadata": {
        "colab": {
          "base_uri": "https://localhost:8080/"
        },
        "id": "d7f8S_OHC7WB",
        "outputId": "2320929c-a7f0-46a7-c1c2-d5f23234056d"
      },
      "execution_count": 2,
      "outputs": [
        {
          "output_type": "execute_result",
          "data": {
            "text/plain": [
              "torch.float32"
            ]
          },
          "metadata": {},
          "execution_count": 2
        }
      ]
    },
    {
      "cell_type": "code",
      "source": [
        "# Set the default data type for PyTorch tensors to 64-bit integer (int64)\n",
        "torch.set_default_dtype(torch.int64)"
      ],
      "metadata": {
        "colab": {
          "base_uri": "https://localhost:8080/",
          "height": 280
        },
        "id": "o6Mi2TsmDGtw",
        "outputId": "fc7d2585-731b-4511-a561-d1b274e2cfdc"
      },
      "execution_count": 3,
      "outputs": [
        {
          "output_type": "error",
          "ename": "TypeError",
          "evalue": "only floating-point types are supported as the default type",
          "traceback": [
            "\u001b[0;31m---------------------------------------------------------------------------\u001b[0m",
            "\u001b[0;31mTypeError\u001b[0m                                 Traceback (most recent call last)",
            "\u001b[0;32m<ipython-input-3-354adb884f7c>\u001b[0m in \u001b[0;36m<cell line: 2>\u001b[0;34m()\u001b[0m\n\u001b[1;32m      1\u001b[0m \u001b[0;31m# Set the default data type for PyTorch tensors to 64-bit integer (int64)\u001b[0m\u001b[0;34m\u001b[0m\u001b[0;34m\u001b[0m\u001b[0m\n\u001b[0;32m----> 2\u001b[0;31m \u001b[0mtorch\u001b[0m\u001b[0;34m.\u001b[0m\u001b[0mset_default_dtype\u001b[0m\u001b[0;34m(\u001b[0m\u001b[0mtorch\u001b[0m\u001b[0;34m.\u001b[0m\u001b[0mint64\u001b[0m\u001b[0;34m)\u001b[0m\u001b[0;34m\u001b[0m\u001b[0;34m\u001b[0m\u001b[0m\n\u001b[0m",
            "\u001b[0;32m/usr/local/lib/python3.10/dist-packages/torch/__init__.py\u001b[0m in \u001b[0;36mset_default_dtype\u001b[0;34m(d)\u001b[0m\n\u001b[1;32m    794\u001b[0m \u001b[0;34m\u001b[0m\u001b[0m\n\u001b[1;32m    795\u001b[0m     \"\"\"\n\u001b[0;32m--> 796\u001b[0;31m     \u001b[0m_C\u001b[0m\u001b[0;34m.\u001b[0m\u001b[0m_set_default_dtype\u001b[0m\u001b[0;34m(\u001b[0m\u001b[0md\u001b[0m\u001b[0;34m)\u001b[0m\u001b[0;34m\u001b[0m\u001b[0;34m\u001b[0m\u001b[0m\n\u001b[0m\u001b[1;32m    797\u001b[0m \u001b[0;34m\u001b[0m\u001b[0m\n\u001b[1;32m    798\u001b[0m \u001b[0;32mdef\u001b[0m \u001b[0muse_deterministic_algorithms\u001b[0m\u001b[0;34m(\u001b[0m\u001b[0mmode\u001b[0m\u001b[0;34m:\u001b[0m \u001b[0mbuiltins\u001b[0m\u001b[0;34m.\u001b[0m\u001b[0mbool\u001b[0m\u001b[0;34m,\u001b[0m \u001b[0;34m*\u001b[0m\u001b[0;34m,\u001b[0m \u001b[0mwarn_only\u001b[0m\u001b[0;34m:\u001b[0m \u001b[0mbuiltins\u001b[0m\u001b[0;34m.\u001b[0m\u001b[0mbool\u001b[0m \u001b[0;34m=\u001b[0m \u001b[0;32mFalse\u001b[0m\u001b[0;34m)\u001b[0m \u001b[0;34m->\u001b[0m \u001b[0;32mNone\u001b[0m\u001b[0;34m:\u001b[0m\u001b[0;34m\u001b[0m\u001b[0;34m\u001b[0m\u001b[0m\n",
            "\u001b[0;31mTypeError\u001b[0m: only floating-point types are supported as the default type"
          ]
        }
      ]
    },
    {
      "cell_type": "code",
      "source": [
        "# Set the default data type for PyTorch tensors to 64-bit floating point (float64)\n",
        "torch.set_default_dtype(torch.float64)"
      ],
      "metadata": {
        "id": "HY4TVNuaDbsH"
      },
      "execution_count": 4,
      "outputs": []
    },
    {
      "cell_type": "code",
      "source": [
        "# Retrieve and return the current default data type used by PyTorch tensors\n",
        "torch.get_default_dtype()"
      ],
      "metadata": {
        "colab": {
          "base_uri": "https://localhost:8080/"
        },
        "id": "sCgj3IumDhjm",
        "outputId": "6148e5fd-519e-462b-e3ed-518bb4219b52"
      },
      "execution_count": 5,
      "outputs": [
        {
          "output_type": "execute_result",
          "data": {
            "text/plain": [
              "torch.float64"
            ]
          },
          "metadata": {},
          "execution_count": 5
        }
      ]
    },
    {
      "cell_type": "code",
      "source": [
        "# Create a 2D tensor with the specified values using the default data type\n",
        "tensor_arr = torch.Tensor([[1, 2, 3], [4, 5, 6]])\n",
        "\n",
        "# Display the created tensor\n",
        "tensor_arr\n"
      ],
      "metadata": {
        "colab": {
          "base_uri": "https://localhost:8080/"
        },
        "id": "XR48fK-8DoIn",
        "outputId": "fe21e95c-213a-4653-978e-ef724fe62d07"
      },
      "execution_count": 6,
      "outputs": [
        {
          "output_type": "execute_result",
          "data": {
            "text/plain": [
              "tensor([[1., 2., 3.],\n",
              "        [4., 5., 6.]])"
            ]
          },
          "metadata": {},
          "execution_count": 6
        }
      ]
    },
    {
      "cell_type": "code",
      "source": [
        "# Check if the variable 'tensor_arr' is a tensor and return a boolean value\n",
        "torch.is_tensor(tensor_arr)\n"
      ],
      "metadata": {
        "colab": {
          "base_uri": "https://localhost:8080/"
        },
        "id": "WqbgEvq6D58g",
        "outputId": "60cc98c6-ebe7-47f6-ff64-521af3d28100"
      },
      "execution_count": 7,
      "outputs": [
        {
          "output_type": "execute_result",
          "data": {
            "text/plain": [
              "True"
            ]
          },
          "metadata": {},
          "execution_count": 7
        }
      ]
    },
    {
      "cell_type": "code",
      "source": [
        "# Return the total number of elements in the tensor 'tensor_arr'\n",
        "torch.numel(tensor_arr)"
      ],
      "metadata": {
        "colab": {
          "base_uri": "https://localhost:8080/"
        },
        "id": "Lt5bKkDuEaiL",
        "outputId": "4702af4d-582e-4c21-bead-f282358d4275"
      },
      "execution_count": 8,
      "outputs": [
        {
          "output_type": "execute_result",
          "data": {
            "text/plain": [
              "6"
            ]
          },
          "metadata": {},
          "execution_count": 8
        }
      ]
    },
    {
      "cell_type": "code",
      "source": [
        "# Create an uninitialized 2x2 tensor with the default data type\n",
        "tensor_uninitialized = torch.Tensor(2, 2)\n",
        "\n",
        "# Display the uninitialized tensor\n",
        "tensor_uninitialized"
      ],
      "metadata": {
        "id": "GjG-MoYPEo_e",
        "colab": {
          "base_uri": "https://localhost:8080/"
        },
        "outputId": "42df9155-2a44-4f2b-c696-086e6bb82722"
      },
      "execution_count": 9,
      "outputs": [
        {
          "output_type": "execute_result",
          "data": {
            "text/plain": [
              "tensor([[6.6115e-310, 6.6115e-310],\n",
              "        [1.5810e-322, 3.1620e-322]])"
            ]
          },
          "metadata": {},
          "execution_count": 9
        }
      ]
    },
    {
      "cell_type": "code",
      "source": [
        "# Create a 2x2 tensor with random values uniformly distributed between 0 and 1\n",
        "tensor_initialized = torch.rand(2, 2)\n",
        "\n",
        "# Display the initialized tensor with random values\n",
        "tensor_initialized"
      ],
      "metadata": {
        "colab": {
          "base_uri": "https://localhost:8080/"
        },
        "id": "snL79ELrQb3E",
        "outputId": "4b684575-4be9-4e21-f8ed-0738a2bd62e0"
      },
      "execution_count": 10,
      "outputs": [
        {
          "output_type": "execute_result",
          "data": {
            "text/plain": [
              "tensor([[0.5034, 0.5261],\n",
              "        [0.8064, 0.7739]])"
            ]
          },
          "metadata": {},
          "execution_count": 10
        }
      ]
    },
    {
      "cell_type": "code",
      "source": [
        "# Create a tensor with the specified values and explicitly set its data type to 32-bit integer (IntTensor)\n",
        "tensor_int = torch.tensor([5, 3]).type(torch.IntTensor)\n",
        "\n",
        "# Display the tensor with integer values\n",
        "tensor_int"
      ],
      "metadata": {
        "colab": {
          "base_uri": "https://localhost:8080/"
        },
        "id": "gp3XB8cVQjNP",
        "outputId": "dedee264-eaa0-4df7-98fe-d812f0946f67"
      },
      "execution_count": 11,
      "outputs": [
        {
          "output_type": "execute_result",
          "data": {
            "text/plain": [
              "tensor([5, 3], dtype=torch.int32)"
            ]
          },
          "metadata": {},
          "execution_count": 11
        }
      ]
    },
    {
      "cell_type": "code",
      "source": [
        "# Create a tensor with the specified floating-point values and set its data type to 16-bit integer (ShortTensor)\n",
        "tensor_short = torch.ShortTensor([1.0, 2.0, 3.0])\n",
        "\n",
        "# Display the tensor with values converted to 16-bit integers\n",
        "tensor_short"
      ],
      "metadata": {
        "colab": {
          "base_uri": "https://localhost:8080/"
        },
        "id": "sC8OAugfQpjw",
        "outputId": "eda3c3b4-aa07-43fe-9066-0afdd90695fd"
      },
      "execution_count": 12,
      "outputs": [
        {
          "output_type": "execute_result",
          "data": {
            "text/plain": [
              "tensor([1, 2, 3], dtype=torch.int16)"
            ]
          },
          "metadata": {},
          "execution_count": 12
        }
      ]
    },
    {
      "cell_type": "code",
      "source": [
        "# Create a tensor with the specified floating-point values and explicitly set its data type to 16-bit floating point (half precision)\n",
        "tensor_float = torch.tensor([1.0, 2.0, 3.0]).type(torch.half)\n",
        "\n",
        "# Display the tensor with values in half precision\n",
        "tensor_float"
      ],
      "metadata": {
        "colab": {
          "base_uri": "https://localhost:8080/"
        },
        "id": "5-Oa5EFUQvIo",
        "outputId": "06a63bf5-eeb0-45b1-d885-634e4e23fbbd"
      },
      "execution_count": 13,
      "outputs": [
        {
          "output_type": "execute_result",
          "data": {
            "text/plain": [
              "tensor([1., 2., 3.], dtype=torch.float16)"
            ]
          },
          "metadata": {},
          "execution_count": 13
        }
      ]
    },
    {
      "cell_type": "code",
      "source": [
        "# Create a 2x6 tensor where all elements are initialized to the value 10\n",
        "tensor_fill = torch.full((2, 6), fill_value=10)\n",
        "\n",
        "# Display the tensor with all elements set to 10\n",
        "tensor_fill\n"
      ],
      "metadata": {
        "colab": {
          "base_uri": "https://localhost:8080/"
        },
        "id": "kq_qno6MQ0jU",
        "outputId": "5404ad4e-3c60-4254-9f79-4f6c18f4950e"
      },
      "execution_count": 14,
      "outputs": [
        {
          "output_type": "execute_result",
          "data": {
            "text/plain": [
              "tensor([[10, 10, 10, 10, 10, 10],\n",
              "        [10, 10, 10, 10, 10, 10]])"
            ]
          },
          "metadata": {},
          "execution_count": 14
        }
      ]
    },
    {
      "cell_type": "code",
      "source": [
        "# Create a 2x4 tensor where all elements are initialized to 1, with data type set to 32-bit integer (int32)\n",
        "tensor_of_ones = torch.ones([2, 4], dtype=torch.int32)\n",
        "\n",
        "# Display the tensor with all elements set to 1\n",
        "tensor_of_ones\n"
      ],
      "metadata": {
        "colab": {
          "base_uri": "https://localhost:8080/"
        },
        "id": "J61mxoi7Q6q8",
        "outputId": "cf19cbc0-5457-429b-b5e2-33efcbaea86d"
      },
      "execution_count": 15,
      "outputs": [
        {
          "output_type": "execute_result",
          "data": {
            "text/plain": [
              "tensor([[1, 1, 1, 1],\n",
              "        [1, 1, 1, 1]], dtype=torch.int32)"
            ]
          },
          "metadata": {},
          "execution_count": 15
        }
      ]
    },
    {
      "cell_type": "code",
      "source": [
        "# Create a tensor of the same shape and data type as 'tensor_of_ones', but with all elements initialized to 0\n",
        "tensor_of_zeroes = torch.zeros_like(tensor_of_ones)\n",
        "\n",
        "# Display the tensor with all elements set to 0\n",
        "tensor_of_zeroes"
      ],
      "metadata": {
        "colab": {
          "base_uri": "https://localhost:8080/"
        },
        "id": "JeAR6e3DRAZm",
        "outputId": "c665a45b-5bba-48d0-adc6-805c77322aef"
      },
      "execution_count": 16,
      "outputs": [
        {
          "output_type": "execute_result",
          "data": {
            "text/plain": [
              "tensor([[0, 0, 0, 0],\n",
              "        [0, 0, 0, 0]], dtype=torch.int32)"
            ]
          },
          "metadata": {},
          "execution_count": 16
        }
      ]
    },
    {
      "cell_type": "code",
      "source": [
        "# Create a 5x5 identity matrix with ones on the diagonal and zeros elsewhere\n",
        "tensor_eye = torch.eye(5)\n",
        "\n",
        "# Display the identity matrix\n",
        "tensor_eye"
      ],
      "metadata": {
        "colab": {
          "base_uri": "https://localhost:8080/"
        },
        "id": "DAT-xq4eRFdx",
        "outputId": "8e690bc4-d4b5-4835-9e0b-d3d532bb039f"
      },
      "execution_count": 17,
      "outputs": [
        {
          "output_type": "execute_result",
          "data": {
            "text/plain": [
              "tensor([[1., 0., 0., 0., 0.],\n",
              "        [0., 1., 0., 0., 0.],\n",
              "        [0., 0., 1., 0., 0.],\n",
              "        [0., 0., 0., 1., 0.],\n",
              "        [0., 0., 0., 0., 1.]])"
            ]
          },
          "metadata": {},
          "execution_count": 17
        }
      ]
    },
    {
      "cell_type": "code",
      "source": [
        "# Find the indices of non-zero elements in the 'tensor_eye' tensor\n",
        "non_zero = torch.nonzero(tensor_eye)\n",
        "\n",
        "# Display the indices of non-zero elements in the tensor\n",
        "non_zero"
      ],
      "metadata": {
        "colab": {
          "base_uri": "https://localhost:8080/"
        },
        "id": "L3OGl8XPRKti",
        "outputId": "abfeb9e3-4ec7-4990-a228-4988f95f6277"
      },
      "execution_count": 18,
      "outputs": [
        {
          "output_type": "execute_result",
          "data": {
            "text/plain": [
              "tensor([[0, 0],\n",
              "        [1, 1],\n",
              "        [2, 2],\n",
              "        [3, 3],\n",
              "        [4, 4]])"
            ]
          },
          "metadata": {},
          "execution_count": 18
        }
      ]
    },
    {
      "cell_type": "code",
      "source": [
        "# Create a 2x3 tensor with the specified integer values\n",
        "i = torch.tensor([[0, 1, 1],\n",
        "                  [2, 2, 0]])\n",
        "\n",
        "# Display the tensor 'i'\n",
        "i"
      ],
      "metadata": {
        "colab": {
          "base_uri": "https://localhost:8080/"
        },
        "id": "vcYKJwR-RR9X",
        "outputId": "b828d98b-9679-44fc-b512-8329618235b1"
      },
      "execution_count": 19,
      "outputs": [
        {
          "output_type": "execute_result",
          "data": {
            "text/plain": [
              "tensor([[0, 1, 1],\n",
              "        [2, 2, 0]])"
            ]
          },
          "metadata": {},
          "execution_count": 19
        }
      ]
    },
    {
      "cell_type": "code",
      "source": [
        "# Create a 1D tensor with the specified floating-point values and set the data type to 32-bit floating point (float32)\n",
        "v = torch.tensor([3, 4, 5], dtype=torch.float32)\n",
        "\n",
        "# Display the tensor 'v'\n",
        "v"
      ],
      "metadata": {
        "colab": {
          "base_uri": "https://localhost:8080/"
        },
        "id": "Ng5GXuSnRYTe",
        "outputId": "833260d2-bf2a-48eb-cb10-1402701b95bf"
      },
      "execution_count": 20,
      "outputs": [
        {
          "output_type": "execute_result",
          "data": {
            "text/plain": [
              "tensor([3., 4., 5.], dtype=torch.float32)"
            ]
          },
          "metadata": {},
          "execution_count": 20
        }
      ]
    },
    {
      "cell_type": "code",
      "source": [
        "# Create a sparse tensor using COO (Coordinate) format with the given indices 'i', values 'v', and size [2, 5]\n",
        "sparse_tensor = torch.sparse_coo_tensor(i, v, [2, 5])\n",
        "\n",
        "# Access and display the data of the sparse tensor\n",
        "sparse_tensor.data"
      ],
      "metadata": {
        "colab": {
          "base_uri": "https://localhost:8080/"
        },
        "id": "bJ-VhENTRavT",
        "outputId": "67f74ec2-880c-4aad-cf92-84d18132f2ba"
      },
      "execution_count": 21,
      "outputs": [
        {
          "output_type": "execute_result",
          "data": {
            "text/plain": [
              "tensor(indices=tensor([[0, 1, 1],\n",
              "                       [2, 2, 0]]),\n",
              "       values=tensor([3., 4., 5.]),\n",
              "       size=(2, 5), nnz=3, dtype=torch.float32, layout=torch.sparse_coo)"
            ]
          },
          "metadata": {},
          "execution_count": 21
        }
      ]
    },
    {
      "cell_type": "code",
      "source": [
        "# Create a 2x3 tensor with random values uniformly distributed between 0 and 1\n",
        "initial_tensor = torch.rand(2, 3)\n",
        "\n",
        "# Display the tensor with random values\n",
        "initial_tensor\n"
      ],
      "metadata": {
        "colab": {
          "base_uri": "https://localhost:8080/"
        },
        "id": "OT7_YVzMRr2L",
        "outputId": "4671e886-2b78-4585-be6c-08fc65907795"
      },
      "execution_count": 22,
      "outputs": [
        {
          "output_type": "execute_result",
          "data": {
            "text/plain": [
              "tensor([[0.1361, 0.9663, 0.1164],\n",
              "        [0.8693, 0.4011, 0.7890]])"
            ]
          },
          "metadata": {},
          "execution_count": 22
        }
      ]
    },
    {
      "cell_type": "code",
      "source": [
        "# Fill all elements of the 'initial_tensor' with the value 10\n",
        "initial_tensor.fill_(10)\n",
        "\n",
        "# Display the tensor after filling it with 10s\n",
        "initial_tensor\n"
      ],
      "metadata": {
        "colab": {
          "base_uri": "https://localhost:8080/"
        },
        "id": "kHkjOID0SN_s",
        "outputId": "aaa1447e-9490-4ba2-f972-a9f387a7e5a5"
      },
      "execution_count": 23,
      "outputs": [
        {
          "output_type": "execute_result",
          "data": {
            "text/plain": [
              "tensor([[10., 10., 10.],\n",
              "        [10., 10., 10.]])"
            ]
          },
          "metadata": {},
          "execution_count": 23
        }
      ]
    },
    {
      "cell_type": "code",
      "source": [
        "# Create a new tensor by adding 5 to each element of 'initial_tensor'\n",
        "new_tensor = initial_tensor.add(5)\n",
        "\n",
        "# Display the new tensor with updated values\n",
        "new_tensor"
      ],
      "metadata": {
        "colab": {
          "base_uri": "https://localhost:8080/"
        },
        "id": "O5F0vhaRSVHE",
        "outputId": "d2ce06f5-d737-4a93-84d0-046259b00049"
      },
      "execution_count": 24,
      "outputs": [
        {
          "output_type": "execute_result",
          "data": {
            "text/plain": [
              "tensor([[15., 15., 15.],\n",
              "        [15., 15., 15.]])"
            ]
          },
          "metadata": {},
          "execution_count": 24
        }
      ]
    },
    {
      "cell_type": "code",
      "source": [
        "# Display the original 'initial_tensor' to show it has not been modified by the addition operation\n",
        "initial_tensor"
      ],
      "metadata": {
        "colab": {
          "base_uri": "https://localhost:8080/"
        },
        "id": "tEDQgftDShbj",
        "outputId": "130bfaf7-3a90-42c6-fc1f-8b95ecae3730"
      },
      "execution_count": 25,
      "outputs": [
        {
          "output_type": "execute_result",
          "data": {
            "text/plain": [
              "tensor([[10., 10., 10.],\n",
              "        [10., 10., 10.]])"
            ]
          },
          "metadata": {},
          "execution_count": 25
        }
      ]
    },
    {
      "cell_type": "code",
      "source": [
        "# In-place addition: add 8 to each element of 'initial_tensor' and modify it directly\n",
        "initial_tensor.add_(8)\n",
        "\n",
        "# Display the updated 'initial_tensor' with the added values\n",
        "initial_tensor"
      ],
      "metadata": {
        "colab": {
          "base_uri": "https://localhost:8080/"
        },
        "id": "ZFD7YB20StxI",
        "outputId": "0d3c59a8-5f27-435b-947a-1dd26a480540"
      },
      "execution_count": 26,
      "outputs": [
        {
          "output_type": "execute_result",
          "data": {
            "text/plain": [
              "tensor([[18., 18., 18.],\n",
              "        [18., 18., 18.]])"
            ]
          },
          "metadata": {},
          "execution_count": 26
        }
      ]
    },
    {
      "cell_type": "code",
      "source": [
        "# Display 'new_tensor' to show it remains unchanged after modifying 'initial_tensor'\n",
        "new_tensor"
      ],
      "metadata": {
        "colab": {
          "base_uri": "https://localhost:8080/"
        },
        "id": "R4Kv0GK7Sz6w",
        "outputId": "583f071c-372a-4412-9d40-6f3111ae6055"
      },
      "execution_count": 27,
      "outputs": [
        {
          "output_type": "execute_result",
          "data": {
            "text/plain": [
              "tensor([[15., 15., 15.],\n",
              "        [15., 15., 15.]])"
            ]
          },
          "metadata": {},
          "execution_count": 27
        }
      ]
    },
    {
      "cell_type": "code",
      "source": [
        "# In-place operation: compute the square root of each element in 'new_tensor' and modify it directly\n",
        "new_tensor.sqrt_()\n",
        "\n",
        "# Display the updated 'new_tensor' with square root values\n",
        "new_tensor\n"
      ],
      "metadata": {
        "colab": {
          "base_uri": "https://localhost:8080/"
        },
        "id": "hf2yItRGS4gQ",
        "outputId": "d5504035-03ad-43f7-b045-ddf8a933699c"
      },
      "execution_count": 28,
      "outputs": [
        {
          "output_type": "execute_result",
          "data": {
            "text/plain": [
              "tensor([[3.8730, 3.8730, 3.8730],\n",
              "        [3.8730, 3.8730, 3.8730]])"
            ]
          },
          "metadata": {},
          "execution_count": 28
        }
      ]
    },
    {
      "cell_type": "code",
      "source": [
        "# Create a 1D tensor with 15 equally spaced values between 0.1 and 10.0\n",
        "x = torch.linspace(start=0.1, end=10.0, steps=15)\n",
        "\n",
        "# Display the tensor 'x' with the generated values\n",
        "x\n"
      ],
      "metadata": {
        "colab": {
          "base_uri": "https://localhost:8080/"
        },
        "id": "JSKgqX-HS9l0",
        "outputId": "e7a82374-79a5-462a-9e4f-596c577d16ce"
      },
      "execution_count": 29,
      "outputs": [
        {
          "output_type": "execute_result",
          "data": {
            "text/plain": [
              "tensor([ 0.1000,  0.8071,  1.5143,  2.2214,  2.9286,  3.6357,  4.3429,  5.0500,\n",
              "         5.7571,  6.4643,  7.1714,  7.8786,  8.5857,  9.2929, 10.0000])"
            ]
          },
          "metadata": {},
          "execution_count": 29
        }
      ]
    },
    {
      "cell_type": "code",
      "source": [
        "# Split the tensor 'x' into 3 chunks along the specified dimension (0)\n",
        "tensor_chunk = torch.chunk(x, 3, 0)\n",
        "\n",
        "# Display the list of tensors resulting from the chunk operation\n",
        "tensor_chunk\n"
      ],
      "metadata": {
        "colab": {
          "base_uri": "https://localhost:8080/"
        },
        "id": "PFiJ4DRJTCmm",
        "outputId": "be6ccf11-bb12-4ca5-db7f-1194af984ef2"
      },
      "execution_count": 30,
      "outputs": [
        {
          "output_type": "execute_result",
          "data": {
            "text/plain": [
              "(tensor([0.1000, 0.8071, 1.5143, 2.2214, 2.9286]),\n",
              " tensor([3.6357, 4.3429, 5.0500, 5.7571, 6.4643]),\n",
              " tensor([ 7.1714,  7.8786,  8.5857,  9.2929, 10.0000]))"
            ]
          },
          "metadata": {},
          "execution_count": 30
        }
      ]
    },
    {
      "cell_type": "code",
      "source": [
        "# Access the first chunk from 'tensor_chunk'\n",
        "tensor1 = tensor_chunk[0]\n",
        "\n",
        "# Access the second chunk from 'tensor_chunk'\n",
        "tensor2 = tensor_chunk[1]\n",
        "\n",
        "# Create a new tensor with specified values\n",
        "tensor3 = torch.tensor([3.0, 4.0, 5.0])\n",
        "\n",
        "# Concatenate 'tensor1', 'tensor2', and 'tensor3' along dimension 0\n",
        "torch.cat((tensor1, tensor2, tensor3), 0)\n"
      ],
      "metadata": {
        "colab": {
          "base_uri": "https://localhost:8080/"
        },
        "id": "R1UrcHdoTIvI",
        "outputId": "a275762b-aff2-44d8-9d58-27f892bc66a9"
      },
      "execution_count": 31,
      "outputs": [
        {
          "output_type": "execute_result",
          "data": {
            "text/plain": [
              "tensor([0.1000, 0.8071, 1.5143, 2.2214, 2.9286, 3.6357, 4.3429, 5.0500, 5.7571,\n",
              "        6.4643, 3.0000, 4.0000, 5.0000])"
            ]
          },
          "metadata": {},
          "execution_count": 31
        }
      ]
    },
    {
      "cell_type": "code",
      "source": [
        "# Create a 3x3 tensor with the specified integer values\n",
        "random_tensor = torch.Tensor([[10, 8, 30], [40, 5, 6], [12, 2, 21]])\n",
        "\n",
        "# Display the tensor 'random_tensor'\n",
        "random_tensor\n"
      ],
      "metadata": {
        "colab": {
          "base_uri": "https://localhost:8080/"
        },
        "id": "is8JxbsjTN7I",
        "outputId": "ca04471b-cf92-49eb-fcd1-d98faefcbba3"
      },
      "execution_count": 32,
      "outputs": [
        {
          "output_type": "execute_result",
          "data": {
            "text/plain": [
              "tensor([[10.,  8., 30.],\n",
              "        [40.,  5.,  6.],\n",
              "        [12.,  2., 21.]])"
            ]
          },
          "metadata": {},
          "execution_count": 32
        }
      ]
    },
    {
      "cell_type": "code",
      "source": [
        "# Access the element at the first row and second column of 'random_tensor'\n",
        "random_tensor[0, 1]\n"
      ],
      "metadata": {
        "colab": {
          "base_uri": "https://localhost:8080/"
        },
        "id": "bHMSQ7QvTUXE",
        "outputId": "785f7ab2-dd07-4b73-c718-8f1addd3afe4"
      },
      "execution_count": 33,
      "outputs": [
        {
          "output_type": "execute_result",
          "data": {
            "text/plain": [
              "tensor(8.)"
            ]
          },
          "metadata": {},
          "execution_count": 33
        }
      ]
    },
    {
      "cell_type": "code",
      "source": [
        "# Access a sub-tensor of 'random_tensor' starting from the second row and second column to the end\n",
        "random_tensor[1:, 1:]\n"
      ],
      "metadata": {
        "colab": {
          "base_uri": "https://localhost:8080/"
        },
        "id": "3qB-qOr9TZEF",
        "outputId": "7de13dfe-1a80-4e62-bc8b-27e4d0715927"
      },
      "execution_count": 34,
      "outputs": [
        {
          "output_type": "execute_result",
          "data": {
            "text/plain": [
              "tensor([[ 5.,  6.],\n",
              "        [ 2., 21.]])"
            ]
          },
          "metadata": {},
          "execution_count": 34
        }
      ]
    },
    {
      "cell_type": "code",
      "source": [
        "# Split the tensor 'random_tensor' into chunks of size 2 along the first dimension\n",
        "random_tensor_split = torch.split(random_tensor, 2)\n",
        "\n",
        "# Display the list of tensors resulting from the split operation\n",
        "random_tensor_split\n"
      ],
      "metadata": {
        "colab": {
          "base_uri": "https://localhost:8080/"
        },
        "id": "Fhft9mKVTdmc",
        "outputId": "c89e8fef-8d4f-44e2-d08e-1ede822c8797"
      },
      "execution_count": 35,
      "outputs": [
        {
          "output_type": "execute_result",
          "data": {
            "text/plain": [
              "(tensor([[10.,  8., 30.],\n",
              "         [40.,  5.,  6.]]),\n",
              " tensor([[12.,  2., 21.]]))"
            ]
          },
          "metadata": {},
          "execution_count": 35
        }
      ]
    },
    {
      "cell_type": "code",
      "source": [
        "random_tensor"
      ],
      "metadata": {
        "colab": {
          "base_uri": "https://localhost:8080/"
        },
        "id": "xFY8OgCUTh7O",
        "outputId": "bfb57a3c-c192-4a1e-bf60-ed663a5ddbc7"
      },
      "execution_count": 36,
      "outputs": [
        {
          "output_type": "execute_result",
          "data": {
            "text/plain": [
              "tensor([[10.,  8., 30.],\n",
              "        [40.,  5.,  6.],\n",
              "        [12.,  2., 21.]])"
            ]
          },
          "metadata": {},
          "execution_count": 36
        }
      ]
    },
    {
      "cell_type": "code",
      "source": [
        "# Return the size of 'random_tensor'\n",
        "random_tensor.size()\n"
      ],
      "metadata": {
        "colab": {
          "base_uri": "https://localhost:8080/"
        },
        "id": "Sy7HCALwUhZS",
        "outputId": "05d96f28-916d-47b3-dd68-c7a6ca04d3e0"
      },
      "execution_count": 37,
      "outputs": [
        {
          "output_type": "execute_result",
          "data": {
            "text/plain": [
              "torch.Size([3, 3])"
            ]
          },
          "metadata": {},
          "execution_count": 37
        }
      ]
    },
    {
      "cell_type": "code",
      "source": [
        "# Reshape 'random_tensor' to a 1D tensor with 9 elements\n",
        "resized_tensor = random_tensor.view(9)\n",
        "resized_tensor"
      ],
      "metadata": {
        "colab": {
          "base_uri": "https://localhost:8080/"
        },
        "id": "BjTzBU2gUnfM",
        "outputId": "87cbd851-9a5c-4b9b-8418-da507d26285c"
      },
      "execution_count": 38,
      "outputs": [
        {
          "output_type": "execute_result",
          "data": {
            "text/plain": [
              "tensor([10.,  8., 30., 40.,  5.,  6., 12.,  2., 21.])"
            ]
          },
          "metadata": {},
          "execution_count": 38
        }
      ]
    },
    {
      "cell_type": "code",
      "source": [
        "# Attempt to reshape 'random_tensor' to a 2D tensor with 6 columns (which is not possible for the current tensor)\n",
        "resized_tensor = random_tensor.view(-1, 6)\n",
        "resized_tensor"
      ],
      "metadata": {
        "colab": {
          "base_uri": "https://localhost:8080/",
          "height": 193
        },
        "id": "Jfm0OxMAUr1k",
        "outputId": "90bbc95d-8a89-4f15-eab6-d628b5d1847c"
      },
      "execution_count": 39,
      "outputs": [
        {
          "output_type": "error",
          "ename": "RuntimeError",
          "evalue": "shape '[-1, 6]' is invalid for input of size 9",
          "traceback": [
            "\u001b[0;31m---------------------------------------------------------------------------\u001b[0m",
            "\u001b[0;31mRuntimeError\u001b[0m                              Traceback (most recent call last)",
            "\u001b[0;32m<ipython-input-39-aa46e9bcd49b>\u001b[0m in \u001b[0;36m<cell line: 2>\u001b[0;34m()\u001b[0m\n\u001b[1;32m      1\u001b[0m \u001b[0;31m# Attempt to reshape 'random_tensor' to a 2D tensor with 6 columns (which is not possible for the current tensor)\u001b[0m\u001b[0;34m\u001b[0m\u001b[0;34m\u001b[0m\u001b[0m\n\u001b[0;32m----> 2\u001b[0;31m \u001b[0mresized_tensor\u001b[0m \u001b[0;34m=\u001b[0m \u001b[0mrandom_tensor\u001b[0m\u001b[0;34m.\u001b[0m\u001b[0mview\u001b[0m\u001b[0;34m(\u001b[0m\u001b[0;34m-\u001b[0m\u001b[0;36m1\u001b[0m\u001b[0;34m,\u001b[0m \u001b[0;36m6\u001b[0m\u001b[0;34m)\u001b[0m\u001b[0;34m\u001b[0m\u001b[0;34m\u001b[0m\u001b[0m\n\u001b[0m\u001b[1;32m      3\u001b[0m \u001b[0mresized_tensor\u001b[0m\u001b[0;34m\u001b[0m\u001b[0;34m\u001b[0m\u001b[0m\n",
            "\u001b[0;31mRuntimeError\u001b[0m: shape '[-1, 6]' is invalid for input of size 9"
          ]
        }
      ]
    },
    {
      "cell_type": "code",
      "source": [
        "# Display the size of the 'resized_tensor' to verify the reshaping operation\n",
        "resized_tensor.size()\n"
      ],
      "metadata": {
        "colab": {
          "base_uri": "https://localhost:8080/"
        },
        "id": "n-VSjkAzUudr",
        "outputId": "32c19155-fec3-4844-b45e-8c1f0acdd466"
      },
      "execution_count": 40,
      "outputs": [
        {
          "output_type": "execute_result",
          "data": {
            "text/plain": [
              "torch.Size([9])"
            ]
          },
          "metadata": {},
          "execution_count": 40
        }
      ]
    },
    {
      "cell_type": "code",
      "source": [
        "# Modify the original tensor by setting the value at position (2, 2) to 100.0\n",
        "random_tensor[2, 2] = 100.0\n",
        "resized_tensor"
      ],
      "metadata": {
        "colab": {
          "base_uri": "https://localhost:8080/"
        },
        "id": "XBLvCPRiU1Kl",
        "outputId": "c0bec01d-784e-40eb-fab1-543f94c246b6"
      },
      "execution_count": 41,
      "outputs": [
        {
          "output_type": "execute_result",
          "data": {
            "text/plain": [
              "tensor([ 10.,   8.,  30.,  40.,   5.,   6.,  12.,   2., 100.])"
            ]
          },
          "metadata": {},
          "execution_count": 41
        }
      ]
    },
    {
      "cell_type": "code",
      "source": [
        "# Add a new dimension to 'random_tensor' at position 2\n",
        "tensor_unsqueeze = torch.unsqueeze(random_tensor, 2)\n",
        "tensor_unsqueeze"
      ],
      "metadata": {
        "colab": {
          "base_uri": "https://localhost:8080/"
        },
        "id": "NZRDgl8FU3gX",
        "outputId": "ade0f9bb-ea6c-474e-bcaa-0bd0d0bfdbee"
      },
      "execution_count": 42,
      "outputs": [
        {
          "output_type": "execute_result",
          "data": {
            "text/plain": [
              "tensor([[[ 10.],\n",
              "         [  8.],\n",
              "         [ 30.]],\n",
              "\n",
              "        [[ 40.],\n",
              "         [  5.],\n",
              "         [  6.]],\n",
              "\n",
              "        [[ 12.],\n",
              "         [  2.],\n",
              "         [100.]]])"
            ]
          },
          "metadata": {},
          "execution_count": 42
        }
      ]
    },
    {
      "cell_type": "code",
      "source": [
        "# Display the shape of the tensor after adding a new dimension\n",
        "tensor_unsqueeze.shape"
      ],
      "metadata": {
        "colab": {
          "base_uri": "https://localhost:8080/"
        },
        "id": "Wrsj4sFFU7XW",
        "outputId": "4be33812-21d3-4138-cdc0-b44f1c914fae"
      },
      "execution_count": 43,
      "outputs": [
        {
          "output_type": "execute_result",
          "data": {
            "text/plain": [
              "torch.Size([3, 3, 1])"
            ]
          },
          "metadata": {},
          "execution_count": 43
        }
      ]
    },
    {
      "cell_type": "code",
      "source": [
        "# Transpose 'initial_tensor' by swapping dimensions 0 and 1\n",
        "tensor_transpose = torch.transpose(initial_tensor, 0, 1)\n",
        "tensor_transpose"
      ],
      "metadata": {
        "colab": {
          "base_uri": "https://localhost:8080/"
        },
        "id": "n9RaxmxcU9qi",
        "outputId": "c9ef8f8e-aa8a-4293-e8fd-db2384d8b9f4"
      },
      "execution_count": 44,
      "outputs": [
        {
          "output_type": "execute_result",
          "data": {
            "text/plain": [
              "tensor([[18., 18.],\n",
              "        [18., 18.],\n",
              "        [18., 18.]])"
            ]
          },
          "metadata": {},
          "execution_count": 44
        }
      ]
    },
    {
      "cell_type": "code",
      "source": [
        "# Sort 'random_tensor' along the last dimension and obtain sorted values and their indices\n",
        "sorted_tensor, sorted_indices = torch.sort(random_tensor)\n"
      ],
      "metadata": {
        "id": "w2ixOVx_U_g-"
      },
      "execution_count": 45,
      "outputs": []
    },
    {
      "cell_type": "code",
      "source": [
        "# Display the sorted tensor\n",
        "sorted_tensor"
      ],
      "metadata": {
        "colab": {
          "base_uri": "https://localhost:8080/"
        },
        "id": "Nz0IsPahVDNg",
        "outputId": "5d1d5c9c-a305-4f71-d92d-d99df27bc35e"
      },
      "execution_count": 46,
      "outputs": [
        {
          "output_type": "execute_result",
          "data": {
            "text/plain": [
              "tensor([[  8.,  10.,  30.],\n",
              "        [  5.,   6.,  40.],\n",
              "        [  2.,  12., 100.]])"
            ]
          },
          "metadata": {},
          "execution_count": 46
        }
      ]
    },
    {
      "cell_type": "code",
      "source": [
        "# Display the indices of the sorted values\n",
        "sorted_indices"
      ],
      "metadata": {
        "colab": {
          "base_uri": "https://localhost:8080/"
        },
        "id": "qbBVkifAVFNV",
        "outputId": "03202a0e-fb94-4951-d93b-9050e1f9f90f"
      },
      "execution_count": 47,
      "outputs": [
        {
          "output_type": "execute_result",
          "data": {
            "text/plain": [
              "tensor([[1, 0, 2],\n",
              "        [1, 2, 0],\n",
              "        [1, 0, 2]])"
            ]
          },
          "metadata": {},
          "execution_count": 47
        }
      ]
    },
    {
      "cell_type": "code",
      "source": [
        "# Create a tensor with specified floating-point values\n",
        "tensor_float = torch.FloatTensor([-1.1, -2.2, 3.3])\n",
        "tensor_float"
      ],
      "metadata": {
        "colab": {
          "base_uri": "https://localhost:8080/"
        },
        "id": "CvBRvwqUVHKd",
        "outputId": "ed202345-6607-44eb-8638-fa3f4b2f1e8f"
      },
      "execution_count": 48,
      "outputs": [
        {
          "output_type": "execute_result",
          "data": {
            "text/plain": [
              "tensor([-1.1000, -2.2000,  3.3000], dtype=torch.float32)"
            ]
          },
          "metadata": {},
          "execution_count": 48
        }
      ]
    },
    {
      "cell_type": "code",
      "source": [
        "# Compute the absolute values of 'tensor_float'\n",
        "tensor_abs = torch.abs(tensor_float)\n",
        "tensor_abs"
      ],
      "metadata": {
        "colab": {
          "base_uri": "https://localhost:8080/"
        },
        "id": "UhVkMIsaVJ--",
        "outputId": "c767ed09-dd91-4830-e2ed-545960dbd837"
      },
      "execution_count": 49,
      "outputs": [
        {
          "output_type": "execute_result",
          "data": {
            "text/plain": [
              "tensor([1.1000, 2.2000, 3.3000], dtype=torch.float32)"
            ]
          },
          "metadata": {},
          "execution_count": 49
        }
      ]
    },
    {
      "cell_type": "code",
      "source": [
        "# Add 2 to each element of 'initial_tensor' and return a new tensor\n",
        "new_tensor = torch.add(initial_tensor, 2)\n",
        "new_tensor"
      ],
      "metadata": {
        "colab": {
          "base_uri": "https://localhost:8080/"
        },
        "id": "u37kIyE8VLoX",
        "outputId": "797e5ce2-4c88-44d1-febf-3d8ac7c5a05a"
      },
      "execution_count": 50,
      "outputs": [
        {
          "output_type": "execute_result",
          "data": {
            "text/plain": [
              "tensor([[20., 20., 20.],\n",
              "        [20., 20., 20.]])"
            ]
          },
          "metadata": {},
          "execution_count": 50
        }
      ]
    },
    {
      "cell_type": "code",
      "source": [
        "# Perform an out-of-place addition of 10 to 'initial_tensor' and store the result in 'new_tensor'\n",
        "torch.add(initial_tensor, 10, new_tensor)"
      ],
      "metadata": {
        "colab": {
          "base_uri": "https://localhost:8080/"
        },
        "id": "8INi7YvvVN1S",
        "outputId": "509639ba-3703-4681-e1b1-90de63e3b4a5"
      },
      "execution_count": 51,
      "outputs": [
        {
          "output_type": "stream",
          "name": "stderr",
          "text": [
            "<ipython-input-51-58883ebc95bd>:2: UserWarning: This overload of add is deprecated:\n",
            "\tadd(Tensor input, Number alpha, Tensor other, *, Tensor out)\n",
            "Consider using one of the following signatures instead:\n",
            "\tadd(Tensor input, Tensor other, *, Number alpha, Tensor out) (Triggered internally at ../torch/csrc/utils/python_arg_parser.cpp:1578.)\n",
            "  torch.add(initial_tensor, 10, new_tensor)\n"
          ]
        },
        {
          "output_type": "execute_result",
          "data": {
            "text/plain": [
              "tensor([[218., 218., 218.],\n",
              "        [218., 218., 218.]])"
            ]
          },
          "metadata": {},
          "execution_count": 51
        }
      ]
    },
    {
      "cell_type": "code",
      "source": [
        "# Generate two random tensors and compute their element-wise absolute values\n",
        "rand1 = torch.abs(torch.randn(2, 3))\n",
        "rand2 = torch.abs(torch.randn(2, 3))\n",
        "\n",
        "# Perform element-wise addition of 'rand1' and 'rand2'\n",
        "add1 = rand1 + rand2\n",
        "add1"
      ],
      "metadata": {
        "colab": {
          "base_uri": "https://localhost:8080/"
        },
        "id": "uxhzDNhuVP2V",
        "outputId": "f9ca3a5e-e6c8-480b-8647-25c2e6ecd029"
      },
      "execution_count": 52,
      "outputs": [
        {
          "output_type": "execute_result",
          "data": {
            "text/plain": [
              "tensor([[0.7305, 1.9855, 0.2876],\n",
              "        [2.9318, 2.3365, 1.7278]])"
            ]
          },
          "metadata": {},
          "execution_count": 52
        }
      ]
    },
    {
      "cell_type": "code",
      "source": [
        "# Perform element-wise addition of 'rand1' and 'rand2' using the torch.add method\n",
        "add2 = torch.add(rand1, rand2)\n",
        "add2"
      ],
      "metadata": {
        "colab": {
          "base_uri": "https://localhost:8080/"
        },
        "id": "FhVH30eqVTfi",
        "outputId": "b0076554-804e-4a1e-bb86-7e6ab752ca1b"
      },
      "execution_count": 53,
      "outputs": [
        {
          "output_type": "execute_result",
          "data": {
            "text/plain": [
              "tensor([[0.7305, 1.9855, 0.2876],\n",
              "        [2.9318, 2.3365, 1.7278]])"
            ]
          },
          "metadata": {},
          "execution_count": 53
        }
      ]
    },
    {
      "cell_type": "code",
      "source": [
        "# Create a tensor with specified integer values\n",
        "tensor = torch.Tensor([[-1, -2, -3], [1, 2, 3]])\n",
        "\n",
        "# Perform element-wise division of 'tensor' by itself with an added small value (0.3)\n",
        "tensor_div = torch.div(tensor, tensor + 0.3)\n",
        "tensor_div"
      ],
      "metadata": {
        "colab": {
          "base_uri": "https://localhost:8080/"
        },
        "id": "gD3GB33xVWBr",
        "outputId": "0c073d65-0b99-4e12-ca34-af8e33c95edf"
      },
      "execution_count": 54,
      "outputs": [
        {
          "output_type": "execute_result",
          "data": {
            "text/plain": [
              "tensor([[1.4286, 1.1765, 1.1111],\n",
              "        [0.7692, 0.8696, 0.9091]])"
            ]
          },
          "metadata": {},
          "execution_count": 54
        }
      ]
    },
    {
      "cell_type": "code",
      "source": [
        "# Perform element-wise multiplication of 'tensor' by itself\n",
        "tensor_mul = torch.mul(tensor, tensor)\n",
        "tensor_mul"
      ],
      "metadata": {
        "colab": {
          "base_uri": "https://localhost:8080/"
        },
        "id": "-_WncOzjVbKz",
        "outputId": "33fbe095-e7d4-4e22-c4a4-0a29f999cbc8"
      },
      "execution_count": 55,
      "outputs": [
        {
          "output_type": "execute_result",
          "data": {
            "text/plain": [
              "tensor([[1., 4., 9.],\n",
              "        [1., 4., 9.]])"
            ]
          },
          "metadata": {},
          "execution_count": 55
        }
      ]
    },
    {
      "cell_type": "code",
      "source": [
        "# Clamp the values of 'tensor' to be within the range [-0.2, 2]\n",
        "tensor_clamp = torch.clamp(tensor, min=-0.2, max=2)\n",
        "tensor_clamp"
      ],
      "metadata": {
        "colab": {
          "base_uri": "https://localhost:8080/"
        },
        "id": "-15ly3XZVdik",
        "outputId": "a9a17d66-c295-478a-b61f-f1d92c1c3754"
      },
      "execution_count": 56,
      "outputs": [
        {
          "output_type": "execute_result",
          "data": {
            "text/plain": [
              "tensor([[-0.2000, -0.2000, -0.2000],\n",
              "        [ 1.0000,  2.0000,  2.0000]])"
            ]
          },
          "metadata": {},
          "execution_count": 56
        }
      ]
    },
    {
      "cell_type": "code",
      "source": [
        "# Create two 1D tensors\n",
        "t1 = torch.Tensor([1, 2])\n",
        "t2 = torch.Tensor([10, 20])\n",
        "\n",
        "# Compute the dot product of 't1' and 't2'\n",
        "dot_product = torch.dot(t1, t2)\n",
        "dot_product"
      ],
      "metadata": {
        "colab": {
          "base_uri": "https://localhost:8080/"
        },
        "id": "f2qGIPJGVfZJ",
        "outputId": "4b603e8b-be16-42e3-8be4-55243f065d06"
      },
      "execution_count": 57,
      "outputs": [
        {
          "output_type": "execute_result",
          "data": {
            "text/plain": [
              "tensor(50.)"
            ]
          },
          "metadata": {},
          "execution_count": 57
        }
      ]
    },
    {
      "cell_type": "code",
      "source": [
        "# Create a 2x3 matrix and a 1D vector\n",
        "matrix = torch.Tensor([[1, 2, 3], [4, 5, 6]])\n",
        "vector = torch.Tensor([0, 1, 2])\n",
        "\n",
        "# Compute the matrix-vector product of 'matrix' and 'vector'\n",
        "matrix_vector = torch.mv(matrix, vector)\n",
        "matrix_vector"
      ],
      "metadata": {
        "colab": {
          "base_uri": "https://localhost:8080/"
        },
        "id": "WAnmUGTdViEp",
        "outputId": "6e02aaf0-7dc8-443b-f15b-0a867dc3fb34"
      },
      "execution_count": 58,
      "outputs": [
        {
          "output_type": "execute_result",
          "data": {
            "text/plain": [
              "tensor([ 8., 17.])"
            ]
          },
          "metadata": {},
          "execution_count": 58
        }
      ]
    },
    {
      "cell_type": "code",
      "source": [
        "# Create another 2x2 matrix\n",
        "another_matrix = torch.Tensor([[10, 30], [20, 0], [0, 50]])\n",
        "\n",
        "# Compute the matrix multiplication of 'matrix' and 'another_matrix'\n",
        "matrix_mul = torch.mm(matrix, another_matrix)\n",
        "matrix_mul"
      ],
      "metadata": {
        "colab": {
          "base_uri": "https://localhost:8080/"
        },
        "id": "Ph_gO5LXVpgx",
        "outputId": "a36de7ab-6598-47c2-c866-f289d6946d08"
      },
      "execution_count": 59,
      "outputs": [
        {
          "output_type": "execute_result",
          "data": {
            "text/plain": [
              "tensor([[ 50., 180.],\n",
              "        [140., 420.]])"
            ]
          },
          "metadata": {},
          "execution_count": 59
        }
      ]
    },
    {
      "cell_type": "code",
      "source": [
        "# Find the indices of the maximum values along dimension 1 of 'matrix_mul'\n",
        "torch.argmax(matrix_mul, dim=1)\n"
      ],
      "metadata": {
        "colab": {
          "base_uri": "https://localhost:8080/"
        },
        "id": "Wx2bgrPlVvTs",
        "outputId": "ac0adfd4-4b33-4a96-95fe-234b20623438"
      },
      "execution_count": 60,
      "outputs": [
        {
          "output_type": "execute_result",
          "data": {
            "text/plain": [
              "tensor([1, 1])"
            ]
          },
          "metadata": {},
          "execution_count": 60
        }
      ]
    },
    {
      "cell_type": "code",
      "source": [
        "# Find the indices of the minimum values along dimension 1 of 'matrix_mul'\n",
        "torch.argmin(matrix_mul, dim=1)"
      ],
      "metadata": {
        "colab": {
          "base_uri": "https://localhost:8080/"
        },
        "id": "dEHgspNAVyEv",
        "outputId": "61104723-b758-4c9c-d396-183be23bd5be"
      },
      "execution_count": 61,
      "outputs": [
        {
          "output_type": "execute_result",
          "data": {
            "text/plain": [
              "tensor([0, 0])"
            ]
          },
          "metadata": {},
          "execution_count": 61
        }
      ]
    },
    {
      "cell_type": "code",
      "source": [],
      "metadata": {
        "id": "zc9X7XIiVzzY"
      },
      "execution_count": 61,
      "outputs": []
    }
  ]
}